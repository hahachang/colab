{
  "cells": [
    {
      "cell_type": "markdown",
      "metadata": {
        "id": "view-in-github",
        "colab_type": "text"
      },
      "source": [
        "<a href=\"https://colab.research.google.com/github/hahachang/colab/blob/main/JobsBioParse.ipynb\" target=\"_parent\"><img src=\"https://colab.research.google.com/assets/colab-badge.svg\" alt=\"Open In Colab\"/></a>"
      ]
    },
    {
      "cell_type": "markdown",
      "metadata": {
        "id": "VIfGeRwAakxk"
      },
      "source": [
        "# 環境設定"
      ]
    },
    {
      "cell_type": "code",
      "source": [
        "!wget https://dl.google.com/linux/direct/google-chrome-stable_current_amd64.deb\n",
        "!apt install ./google-chrome-stable_current_amd64.deb\n",
        "\n",
        "# Install selenium\n",
        "!pip install selenium\n",
        "\n",
        "!pip install webdriver-manager\n",
        "!pip install chromedriver-py"
      ],
      "metadata": {
        "colab": {
          "base_uri": "https://localhost:8080/"
        },
        "id": "dpOKM7ce9xat",
        "outputId": "dfb905c4-0f39-4d08-99d8-690678157dc3"
      },
      "execution_count": 1,
      "outputs": [
        {
          "output_type": "stream",
          "name": "stdout",
          "text": [
            "--2024-08-29 05:59:14--  https://dl.google.com/linux/direct/google-chrome-stable_current_amd64.deb\n",
            "Resolving dl.google.com (dl.google.com)... 142.250.141.136, 142.250.141.93, 142.250.141.91, ...\n",
            "Connecting to dl.google.com (dl.google.com)|142.250.141.136|:443... connected.\n",
            "HTTP request sent, awaiting response... 200 OK\n",
            "Length: 110831940 (106M) [application/x-debian-package]\n",
            "Saving to: ‘google-chrome-stable_current_amd64.deb’\n",
            "\n",
            "google-chrome-stabl 100%[===================>] 105.70M   105MB/s    in 1.0s    \n",
            "\n",
            "2024-08-29 05:59:15 (105 MB/s) - ‘google-chrome-stable_current_amd64.deb’ saved [110831940/110831940]\n",
            "\n",
            "Reading package lists... Done\n",
            "Building dependency tree... Done\n",
            "Reading state information... Done\n",
            "Note, selecting 'google-chrome-stable' instead of './google-chrome-stable_current_amd64.deb'\n",
            "The following additional packages will be installed:\n",
            "  libvulkan1 mesa-vulkan-drivers\n",
            "The following NEW packages will be installed:\n",
            "  google-chrome-stable libvulkan1 mesa-vulkan-drivers\n",
            "0 upgraded, 3 newly installed, 0 to remove and 49 not upgraded.\n",
            "Need to get 10.9 MB/122 MB of archives.\n",
            "After this operation, 410 MB of additional disk space will be used.\n",
            "Get:1 http://archive.ubuntu.com/ubuntu jammy/main amd64 libvulkan1 amd64 1.3.204.1-2 [128 kB]\n",
            "Get:2 http://archive.ubuntu.com/ubuntu jammy-updates/main amd64 mesa-vulkan-drivers amd64 23.2.1-1ubuntu3.1~22.04.2 [10.7 MB]\n",
            "Get:3 /content/google-chrome-stable_current_amd64.deb google-chrome-stable amd64 128.0.6613.113-1 [111 MB]\n",
            "Fetched 10.9 MB in 4s (2,426 kB/s)\n",
            "Selecting previously unselected package libvulkan1:amd64.\n",
            "(Reading database ... 123595 files and directories currently installed.)\n",
            "Preparing to unpack .../libvulkan1_1.3.204.1-2_amd64.deb ...\n",
            "Unpacking libvulkan1:amd64 (1.3.204.1-2) ...\n",
            "Selecting previously unselected package google-chrome-stable.\n",
            "Preparing to unpack .../google-chrome-stable_current_amd64.deb ...\n",
            "Unpacking google-chrome-stable (128.0.6613.113-1) ...\n",
            "Selecting previously unselected package mesa-vulkan-drivers:amd64.\n",
            "Preparing to unpack .../mesa-vulkan-drivers_23.2.1-1ubuntu3.1~22.04.2_amd64.deb ...\n",
            "Unpacking mesa-vulkan-drivers:amd64 (23.2.1-1ubuntu3.1~22.04.2) ...\n",
            "Setting up libvulkan1:amd64 (1.3.204.1-2) ...\n",
            "Setting up mesa-vulkan-drivers:amd64 (23.2.1-1ubuntu3.1~22.04.2) ...\n",
            "Setting up google-chrome-stable (128.0.6613.113-1) ...\n",
            "update-alternatives: using /usr/bin/google-chrome-stable to provide /usr/bin/x-www-browser (x-www-browser) in auto mode\n",
            "update-alternatives: using /usr/bin/google-chrome-stable to provide /usr/bin/gnome-www-browser (gnome-www-browser) in auto mode\n",
            "update-alternatives: using /usr/bin/google-chrome-stable to provide /usr/bin/google-chrome (google-chrome) in auto mode\n",
            "Processing triggers for man-db (2.10.2-1) ...\n",
            "Processing triggers for libc-bin (2.35-0ubuntu3.4) ...\n",
            "/sbin/ldconfig.real: /usr/local/lib/libtbbbind_2_0.so.3 is not a symbolic link\n",
            "\n",
            "/sbin/ldconfig.real: /usr/local/lib/libur_adapter_level_zero.so.0 is not a symbolic link\n",
            "\n",
            "/sbin/ldconfig.real: /usr/local/lib/libur_loader.so.0 is not a symbolic link\n",
            "\n",
            "/sbin/ldconfig.real: /usr/local/lib/libtbb.so.12 is not a symbolic link\n",
            "\n",
            "/sbin/ldconfig.real: /usr/local/lib/libtbbbind_2_5.so.3 is not a symbolic link\n",
            "\n",
            "/sbin/ldconfig.real: /usr/local/lib/libur_adapter_opencl.so.0 is not a symbolic link\n",
            "\n",
            "/sbin/ldconfig.real: /usr/local/lib/libtbbbind.so.3 is not a symbolic link\n",
            "\n",
            "/sbin/ldconfig.real: /usr/local/lib/libtbbmalloc.so.2 is not a symbolic link\n",
            "\n",
            "/sbin/ldconfig.real: /usr/local/lib/libtbbmalloc_proxy.so.2 is not a symbolic link\n",
            "\n",
            "Collecting selenium\n",
            "  Downloading selenium-4.24.0-py3-none-any.whl.metadata (7.1 kB)\n",
            "Requirement already satisfied: urllib3<3,>=1.26 in /usr/local/lib/python3.10/dist-packages (from urllib3[socks]<3,>=1.26->selenium) (2.0.7)\n",
            "Collecting trio~=0.17 (from selenium)\n",
            "  Downloading trio-0.26.2-py3-none-any.whl.metadata (8.6 kB)\n",
            "Collecting trio-websocket~=0.9 (from selenium)\n",
            "  Downloading trio_websocket-0.11.1-py3-none-any.whl.metadata (4.7 kB)\n",
            "Requirement already satisfied: certifi>=2021.10.8 in /usr/local/lib/python3.10/dist-packages (from selenium) (2024.7.4)\n",
            "Requirement already satisfied: typing_extensions~=4.9 in /usr/local/lib/python3.10/dist-packages (from selenium) (4.12.2)\n",
            "Requirement already satisfied: websocket-client~=1.8 in /usr/local/lib/python3.10/dist-packages (from selenium) (1.8.0)\n",
            "Requirement already satisfied: attrs>=23.2.0 in /usr/local/lib/python3.10/dist-packages (from trio~=0.17->selenium) (24.2.0)\n",
            "Requirement already satisfied: sortedcontainers in /usr/local/lib/python3.10/dist-packages (from trio~=0.17->selenium) (2.4.0)\n",
            "Requirement already satisfied: idna in /usr/local/lib/python3.10/dist-packages (from trio~=0.17->selenium) (3.8)\n",
            "Collecting outcome (from trio~=0.17->selenium)\n",
            "  Downloading outcome-1.3.0.post0-py2.py3-none-any.whl.metadata (2.6 kB)\n",
            "Requirement already satisfied: sniffio>=1.3.0 in /usr/local/lib/python3.10/dist-packages (from trio~=0.17->selenium) (1.3.1)\n",
            "Requirement already satisfied: exceptiongroup in /usr/local/lib/python3.10/dist-packages (from trio~=0.17->selenium) (1.2.2)\n",
            "Collecting wsproto>=0.14 (from trio-websocket~=0.9->selenium)\n",
            "  Downloading wsproto-1.2.0-py3-none-any.whl.metadata (5.6 kB)\n",
            "Requirement already satisfied: pysocks!=1.5.7,<2.0,>=1.5.6 in /usr/local/lib/python3.10/dist-packages (from urllib3[socks]<3,>=1.26->selenium) (1.7.1)\n",
            "Collecting h11<1,>=0.9.0 (from wsproto>=0.14->trio-websocket~=0.9->selenium)\n",
            "  Downloading h11-0.14.0-py3-none-any.whl.metadata (8.2 kB)\n",
            "Downloading selenium-4.24.0-py3-none-any.whl (9.6 MB)\n",
            "\u001b[2K   \u001b[90m━━━━━━━━━━━━━━━━━━━━━━━━━━━━━━━━━━━━━━━━\u001b[0m \u001b[32m9.6/9.6 MB\u001b[0m \u001b[31m68.3 MB/s\u001b[0m eta \u001b[36m0:00:00\u001b[0m\n",
            "\u001b[?25hDownloading trio-0.26.2-py3-none-any.whl (475 kB)\n",
            "\u001b[2K   \u001b[90m━━━━━━━━━━━━━━━━━━━━━━━━━━━━━━━━━━━━━━━━\u001b[0m \u001b[32m476.0/476.0 kB\u001b[0m \u001b[31m27.0 MB/s\u001b[0m eta \u001b[36m0:00:00\u001b[0m\n",
            "\u001b[?25hDownloading trio_websocket-0.11.1-py3-none-any.whl (17 kB)\n",
            "Downloading wsproto-1.2.0-py3-none-any.whl (24 kB)\n",
            "Downloading outcome-1.3.0.post0-py2.py3-none-any.whl (10 kB)\n",
            "Downloading h11-0.14.0-py3-none-any.whl (58 kB)\n",
            "\u001b[2K   \u001b[90m━━━━━━━━━━━━━━━━━━━━━━━━━━━━━━━━━━━━━━━━\u001b[0m \u001b[32m58.3/58.3 kB\u001b[0m \u001b[31m3.9 MB/s\u001b[0m eta \u001b[36m0:00:00\u001b[0m\n",
            "\u001b[?25hInstalling collected packages: outcome, h11, wsproto, trio, trio-websocket, selenium\n",
            "Successfully installed h11-0.14.0 outcome-1.3.0.post0 selenium-4.24.0 trio-0.26.2 trio-websocket-0.11.1 wsproto-1.2.0\n",
            "Collecting webdriver-manager\n",
            "  Downloading webdriver_manager-4.0.2-py2.py3-none-any.whl.metadata (12 kB)\n",
            "Requirement already satisfied: requests in /usr/local/lib/python3.10/dist-packages (from webdriver-manager) (2.32.3)\n",
            "Collecting python-dotenv (from webdriver-manager)\n",
            "  Downloading python_dotenv-1.0.1-py3-none-any.whl.metadata (23 kB)\n",
            "Requirement already satisfied: packaging in /usr/local/lib/python3.10/dist-packages (from webdriver-manager) (24.1)\n",
            "Requirement already satisfied: charset-normalizer<4,>=2 in /usr/local/lib/python3.10/dist-packages (from requests->webdriver-manager) (3.3.2)\n",
            "Requirement already satisfied: idna<4,>=2.5 in /usr/local/lib/python3.10/dist-packages (from requests->webdriver-manager) (3.8)\n",
            "Requirement already satisfied: urllib3<3,>=1.21.1 in /usr/local/lib/python3.10/dist-packages (from requests->webdriver-manager) (2.0.7)\n",
            "Requirement already satisfied: certifi>=2017.4.17 in /usr/local/lib/python3.10/dist-packages (from requests->webdriver-manager) (2024.7.4)\n",
            "Downloading webdriver_manager-4.0.2-py2.py3-none-any.whl (27 kB)\n",
            "Downloading python_dotenv-1.0.1-py3-none-any.whl (19 kB)\n",
            "Installing collected packages: python-dotenv, webdriver-manager\n",
            "Successfully installed python-dotenv-1.0.1 webdriver-manager-4.0.2\n",
            "Collecting chromedriver-py\n",
            "  Downloading chromedriver_py-128.0.6613.86-py3-none-any.whl.metadata (1.8 kB)\n",
            "Downloading chromedriver_py-128.0.6613.86-py3-none-any.whl (44.4 MB)\n",
            "\u001b[2K   \u001b[90m━━━━━━━━━━━━━━━━━━━━━━━━━━━━━━━━━━━━━━━━\u001b[0m \u001b[32m44.4/44.4 MB\u001b[0m \u001b[31m11.1 MB/s\u001b[0m eta \u001b[36m0:00:00\u001b[0m\n",
            "\u001b[?25hInstalling collected packages: chromedriver-py\n",
            "Successfully installed chromedriver-py-128.0.6613.86\n"
          ]
        }
      ]
    },
    {
      "cell_type": "code",
      "execution_count": 3,
      "metadata": {
        "colab": {
          "base_uri": "https://localhost:8080/"
        },
        "id": "KilzP2OvLxi6",
        "outputId": "f736edfe-adf3-4bf0-abbb-7f440198f086"
      },
      "outputs": [
        {
          "output_type": "stream",
          "name": "stdout",
          "text": [
            "cp: cannot stat '/usr/lib/chromium-browser/chromedriver': No such file or directory\n",
            "Reading package lists... Done\n",
            "Building dependency tree... Done\n",
            "Reading state information... Done\n",
            "The following additional packages will be installed:\n",
            "  tesseract-ocr-eng tesseract-ocr-osd\n",
            "The following NEW packages will be installed:\n",
            "  tesseract-ocr tesseract-ocr-eng tesseract-ocr-osd\n",
            "0 upgraded, 3 newly installed, 0 to remove and 49 not upgraded.\n",
            "Need to get 4,816 kB of archives.\n",
            "After this operation, 15.6 MB of additional disk space will be used.\n",
            "Get:1 http://archive.ubuntu.com/ubuntu jammy/universe amd64 tesseract-ocr-eng all 1:4.00~git30-7274cfa-1.1 [1,591 kB]\n",
            "Get:2 http://archive.ubuntu.com/ubuntu jammy/universe amd64 tesseract-ocr-osd all 1:4.00~git30-7274cfa-1.1 [2,990 kB]\n",
            "Get:3 http://archive.ubuntu.com/ubuntu jammy/universe amd64 tesseract-ocr amd64 4.1.1-2.1build1 [236 kB]\n",
            "Fetched 4,816 kB in 1s (4,986 kB/s)\n",
            "debconf: unable to initialize frontend: Dialog\n",
            "debconf: (No usable dialog-like program is installed, so the dialog based frontend cannot be used. at /usr/share/perl5/Debconf/FrontEnd/Dialog.pm line 78, <> line 3.)\n",
            "debconf: falling back to frontend: Readline\n",
            "debconf: unable to initialize frontend: Readline\n",
            "debconf: (This frontend requires a controlling tty.)\n",
            "debconf: falling back to frontend: Teletype\n",
            "dpkg-preconfigure: unable to re-open stdin: \n",
            "Selecting previously unselected package tesseract-ocr-eng.\n",
            "(Reading database ... 123750 files and directories currently installed.)\n",
            "Preparing to unpack .../tesseract-ocr-eng_1%3a4.00~git30-7274cfa-1.1_all.deb ...\n",
            "Unpacking tesseract-ocr-eng (1:4.00~git30-7274cfa-1.1) ...\n",
            "Selecting previously unselected package tesseract-ocr-osd.\n",
            "Preparing to unpack .../tesseract-ocr-osd_1%3a4.00~git30-7274cfa-1.1_all.deb ...\n",
            "Unpacking tesseract-ocr-osd (1:4.00~git30-7274cfa-1.1) ...\n",
            "Selecting previously unselected package tesseract-ocr.\n",
            "Preparing to unpack .../tesseract-ocr_4.1.1-2.1build1_amd64.deb ...\n",
            "Unpacking tesseract-ocr (4.1.1-2.1build1) ...\n",
            "Setting up tesseract-ocr-eng (1:4.00~git30-7274cfa-1.1) ...\n",
            "Setting up tesseract-ocr-osd (1:4.00~git30-7274cfa-1.1) ...\n",
            "Setting up tesseract-ocr (4.1.1-2.1build1) ...\n",
            "Processing triggers for man-db (2.10.2-1) ...\n",
            "Collecting pytesseract\n",
            "  Downloading pytesseract-0.3.13-py3-none-any.whl.metadata (11 kB)\n",
            "Requirement already satisfied: packaging>=21.3 in /usr/local/lib/python3.10/dist-packages (from pytesseract) (24.1)\n",
            "Requirement already satisfied: Pillow>=8.0.0 in /usr/local/lib/python3.10/dist-packages (from pytesseract) (9.4.0)\n",
            "Downloading pytesseract-0.3.13-py3-none-any.whl (14 kB)\n",
            "Installing collected packages: pytesseract\n",
            "Successfully installed pytesseract-0.3.13\n"
          ]
        }
      ],
      "source": [
        "#環境設定\n",
        "#!pip install selenium==4.0.0.b3\n",
        "#!pip install selenium\n",
        "#!apt-get update # to update ubuntu to correctly run apt install\n",
        "#!apt install chromium-chromedriver\n",
        "!cp /usr/lib/chromium-browser/chromedriver /usr/bin\n",
        "\n",
        "\n",
        "\n",
        "#wget https://chromedriver.storage.googleapis.com/96.0.4664.45/chromedriver_linux64.zip\n",
        "#!unzip /content/colab/chromedriver_linux64.zip\n",
        "#!cp /content/colab/chromedriver /usr/lib\n",
        "#!cp /content/colab/chromedriver /usr/bin\n",
        "\n",
        "#sys.path.insert(0,'/usr/bin/chromedriver')\n",
        "!sudo apt install tesseract-ocr\n",
        "!pip install pytesseract"
      ]
    },
    {
      "cell_type": "markdown",
      "metadata": {
        "id": "HKsMQGWRawkA"
      },
      "source": [
        "# 共通程式"
      ]
    },
    {
      "cell_type": "code",
      "execution_count": 21,
      "metadata": {
        "id": "El7P4xda0opS"
      },
      "outputs": [],
      "source": [
        "# Line Notify\n",
        "def Line(msg,path_pic=None):\n",
        "    import requests\n",
        "    global tokenDropbox\n",
        "    tokenLine = 'apfSt2nGRwzBuCuFWtH9qRCX8BGATHEyCiBAIQzAwup'\n",
        "\n",
        "    headers = {\n",
        "        \"Authorization\": \"Bearer \" + tokenLine\n",
        "    }\n",
        "    payload = {'message': msg}\n",
        "    if path_pic!=None:\n",
        "      files = {'imageFile':open(path_pic,'rb')}\n",
        "      r = requests.post(\"https://notify-api.line.me/api/notify\", headers = headers, params = payload,files=files)\n",
        "    else:\n",
        "      r = requests.post(\"https://notify-api.line.me/api/notify\", headers = headers, params = payload)\n",
        "    return r.status_code\n",
        "\n",
        "def SendFileToDropbox(fileLocal,fileDropbox):\n",
        "    ##### upload file to dropbox #####\n",
        "\n",
        "    try:\n",
        "        import dropbox\n",
        "        #print(\"module is installed\")\n",
        "    except ModuleNotFoundError:\n",
        "        print(\"module is not installed\")\n",
        "        # or\n",
        "        !pip install dropbox\n",
        "        import dropbox\n",
        "\n",
        "    from dropbox.files import WriteMode\n",
        "    from dropbox.exceptions import ApiError, AuthError\n",
        "    global tokenDropbox\n",
        "    tokenDropbox = \"9VjbJCirSqsAAAAAAAA1JuBzv7mujcQGbebgTGu2IjDup-N77QjVY8MEsg1ccizx\"\n",
        "    dbx = dropbox.Dropbox(tokenDropbox)\n",
        "    with open(fileLocal, 'rb') as f:\n",
        "      dbx.files_upload(f.read(), \"/\"+fileDropbox, mode=WriteMode('overwrite'))\n",
        "      f.close()\n",
        "\n",
        "\n",
        "def GetFileFromDropbox(fileDropbox,fileLocal):\n",
        "    ##### download file frome dropbox #####\n",
        "    try:\n",
        "        import dropbox\n",
        "        #print(\"module is installed\")\n",
        "    except ModuleNotFoundError:\n",
        "        print(\"module is not installed\")\n",
        "        # or\n",
        "        !pip install dropbox\n",
        "        import dropbox\n",
        "\n",
        "    from dropbox.files import WriteMode\n",
        "    from dropbox.exceptions import ApiError, AuthError\n",
        "    global tokenDropbox\n",
        "    tokenDropbox = \"9VjbJCirSqsAAAAAAAA1JuBzv7mujcQGbebgTGu2IjDup-N77QjVY8MEsg1ccizx\"\n",
        "    dbx = dropbox.Dropbox(tokenDropbox)\n",
        "    with open(fileLocal, \"wb\") as f:\n",
        "      metadata, res = dbx.files_download(\"/\"+fileDropbox)\n",
        "      f.write(res.content)"
      ]
    },
    {
      "cell_type": "code",
      "execution_count": 22,
      "metadata": {
        "id": "7y5M_W7GpoW9"
      },
      "outputs": [],
      "source": [
        "#設定\n",
        "import sys\n",
        "import os\n",
        "import base64\n",
        "import datetime\n",
        "import time\n",
        "import json\n",
        "import pandas as pd\n",
        "\n",
        "from datetime import datetime,timedelta\n",
        "from pathlib import Path\n",
        "from urllib.parse import urlparse\n",
        "from selenium import webdriver\n",
        "from selenium.common.exceptions import NoSuchElementException\n",
        "from selenium.webdriver.common.by import By\n",
        "from selenium.webdriver.chrome.options import Options\n",
        "from selenium.webdriver.chrome.service import Service as ChromiumService\n",
        "from webdriver_manager.chrome import ChromeDriverManager\n",
        "#from webdriver_manager.core.utils import ChromeType\n",
        "\n",
        "\n",
        "#global\n",
        "#global tokenDropbox,tokenLine\n",
        "#tokenDropbox = \"9VjbJCirSqsAAAAAAAA1JuBzv7mujcQGbebgTGu2IjDup-N77QjVY8MEsg1ccizx\"\n",
        "#tokenLine = 'apfSt2nGRwzBuCuFWtH9qRCX8BGATHEyCiBAIQzAwup'\n",
        "\n",
        "#設定Selenium\n",
        "#options = webdriver.ChromeOptions()\n",
        "#options.add_argument('--headless')\n",
        "#options.add_argument('--no-sandbox')\n",
        "#options.add_argument('--disable-dev-shm-usage')\n",
        "\n",
        "options = Options()\n",
        "options.add_argument(\"--headless\")\n",
        "options.add_argument(\"--no-sandbox\")\n",
        "options.add_argument('--disable-dev-shm-usage')\n",
        "\n",
        "#options.headless = True\n",
        "\n",
        "prjName = \"OCR_Img_twse_bsr\"\n",
        "\n",
        "headLess = True\n",
        "\n",
        "Path(prjName).mkdir(parents=True, exist_ok=True)\n",
        "\n",
        "# 如要使用Chrome瀏覽器，需使用相對應版本的ChromeDriver\n",
        "# Src: https://chromedriver.chromium.org/\n",
        "wdPath = '/usr/lib/chromium-browser/chromedriver'\n",
        "#wdPath = '/usr/lib/chromedriver'"
      ]
    },
    {
      "cell_type": "code",
      "source": [],
      "metadata": {
        "id": "IcjN-5osbdLl"
      },
      "execution_count": 4,
      "outputs": []
    },
    {
      "cell_type": "markdown",
      "metadata": {
        "id": "sYPVWX_vbEz5"
      },
      "source": [
        "# 函數:Stock"
      ]
    },
    {
      "cell_type": "code",
      "execution_count": 23,
      "metadata": {
        "id": "6RfYQBiuTKvw",
        "colab": {
          "base_uri": "https://localhost:8080/"
        },
        "outputId": "6b114e95-0671-445c-c432-0ea04962b50d"
      },
      "outputs": [
        {
          "output_type": "stream",
          "name": "stdout",
          "text": [
            "======  20240828  ======\n"
          ]
        }
      ],
      "source": [
        "def StartdayParseStock():\n",
        "  from datetime import datetime, timedelta\n",
        "  if (datetime.now()+timedelta(hours=8)).strftime(\"%H%M%S\")<\"160000\":\n",
        "    date   = (datetime.now()+timedelta(hours=8)+timedelta(days=-1)).strftime(\"%Y%m%d\")\n",
        "  else:\n",
        "    date   = (datetime.now()+timedelta(hours=8)).strftime(\"%Y%m%d\")\n",
        "  return date\n",
        "\n",
        "global dateStartday\n",
        "dateStartday =  StartdayParseStock()\n",
        "print(\"======  \" +  dateStartday  + \"  ======\"  )\n",
        "#dateStartday=\"20210514\""
      ]
    },
    {
      "cell_type": "code",
      "execution_count": 5,
      "metadata": {
        "id": "jla9Yp8CTk7r"
      },
      "outputs": [],
      "source": []
    },
    {
      "cell_type": "code",
      "execution_count": 5,
      "metadata": {
        "id": "jztK3Iam9SAL"
      },
      "outputs": [],
      "source": []
    },
    {
      "cell_type": "markdown",
      "metadata": {
        "id": "qdEZkr61bgXW"
      },
      "source": [
        "# 主程式:StockBio"
      ]
    },
    {
      "cell_type": "code",
      "execution_count": 68,
      "metadata": {
        "id": "h4XomNj-AtGY"
      },
      "outputs": [],
      "source": [
        "def ParseBioCSV(stock):\n",
        "  print('chromedriver is lunching..')\n",
        "  wd = webdriver.Chrome(options=options)\n",
        "  #time.sleep(1)\n",
        "  print('chromedriver is ready..')\n",
        "\n",
        "  #抓取captcha\n",
        "  urlString = \"https://bsr.twse.com.tw/bshtm/bsMenu.aspx\"\n",
        "  parsed_uri = urlparse(urlString)\n",
        "  # from urlparse import urlparse  # Python 2\n",
        "  #result = '{uri.scheme}://{uri.netloc}/'.format(uri=parsed_uri)\n",
        "  sitePath = '{uri.hostname}'.format(uri=parsed_uri)\n",
        "\n",
        "  imgPath = prjName + \"\\\\\" + sitePath\n",
        "  Path(imgPath).mkdir(parents=True, exist_ok=True)\n",
        "\n",
        "  print('get web page....Start')\n",
        "  wd.get(urlString)\n",
        "  #time.sleep(1)\n",
        "  print('get web page....Done')\n",
        "\n",
        "  def get_captcha_img(): # return saved file's name\n",
        "      # 此網站的動態驗證碼是存放在 tag img\n",
        "      #target_img = wd.find_element_by_id(\"authPic\")\n",
        "      target_img = wd.find_element(By.CSS_SELECTOR,\"#Panel_bshtm img\")\n",
        "\n",
        "      # get the canvas as a PNG base64 string\n",
        "      img_base64 = wd.execute_script(\"x=arguments[0];c=document.createElement('canvas');c.width=x.width,c.height=x.height;t=c.getContext('2d');t.drawImage(x, 0, 0);return c.toDataURL('image/png').substring(21);\", target_img)\n",
        "\n",
        "      # decode\n",
        "      img_png = base64.b64decode(img_base64)\n",
        "\n",
        "      # save to a file\n",
        "      dtNow = datetime.now()\n",
        "\n",
        "      fileName = '{}\\\\{}{}{}_{}{}{}.png'\n",
        "      fileName = fileName.format(imgPath, dtNow.strftime(\"%Y\"), dtNow.strftime(\"%m\"), dtNow.strftime(\"%d\"), dtNow.strftime(\"%H\"), dtNow.strftime(\"%M\"), dtNow.strftime(\"%S\"))\n",
        "      with open(fileName, 'wb') as f:\n",
        "          f.write(img_png)\n",
        "      return fileName\n",
        "\n",
        "  fileName=get_captcha_img()\n",
        "\n",
        "  print('png saved')\n",
        "\n",
        "  #OCR\n",
        "  # 載入圖形相關函式\n",
        "\n",
        "  try:\n",
        "      from PIL import Image\n",
        "  except ImportError:\n",
        "      import Image\n",
        "  import PIL.ImageOps\n",
        "  import pytesseract\n",
        "\n",
        "  from IPython.display import display\n",
        "\n",
        "  def convert_img1(img, threshold): # 先灰階，轉補色，再黑白處理\n",
        "      img = img.convert(\"L\")  # 轉為灰階\n",
        "      img = PIL.ImageOps.invert(img)\n",
        "      pixels = img.load()\n",
        "      for x in range(img.width):\n",
        "          for y in range(img.height):\n",
        "              if pixels[x, y] > threshold:\n",
        "                  pixels[x, y] = 255\n",
        "              else:\n",
        "                  pixels[x, y] = 0\n",
        "      return img\n",
        "\n",
        "  # 8鄰域降燥辨識\n",
        "  def noise_remove_pil(img, ctrlG, ctrlK): # 8鄰域降噪, ctrlG:小餘折是非白, ctrlK:小於ctrlK個非白點就轉白\n",
        "      def calculate_noise_count(img_obj, w, h): # 計算鄰域非白色的個數\n",
        "          count = 0\n",
        "          width, height = img_obj.size\n",
        "          for _w_ in [w - 1, w, w + 1]:\n",
        "              for _h_ in [h - 1, h, h + 1]:\n",
        "                  if _w_ > width - 1:\n",
        "                      continue\n",
        "                  if _h_ > height - 1:\n",
        "                      continue\n",
        "                  if _w_ == w and _h_ == h:\n",
        "                      continue\n",
        "                  if img_obj.getpixel((_w_, _h_)) < ctrlG:  # 這裡因為是灰度影像，設定小於230為非白色\n",
        "                      count += 1\n",
        "          return count\n",
        "\n",
        "      img = img.convert(\"L\")\n",
        "      img = PIL.ImageOps.invert(img)\n",
        "      w, h = img.size\n",
        "\n",
        "      for _w in range(w):\n",
        "          for _h in range(h):\n",
        "              if _w == 0 or _h == 0:\n",
        "                  img.putpixel((_w, _h), 255)\n",
        "                  continue\n",
        "              pixel = img.getpixel((_w, _h))\n",
        "              if pixel == 255:\n",
        "                  continue\n",
        "\n",
        "              # 計算鄰域非白色的個數\n",
        "              if calculate_noise_count(img, _w, _h) < ctrlK:\n",
        "                  img.putpixel((_w, _h), 255)\n",
        "      return img\n",
        "\n",
        "  captcha4 = Image.open(fileName)\n",
        "  captcha4 = noise_remove_pil(captcha4, 10, 4)\n",
        "\n",
        "  result4 = pytesseract.image_to_string(captcha4)\n",
        "  print(result4)\n",
        "  #display(captcha4)\n",
        "\n",
        "  # 二值化降噪辨識，又稱8鄰域降燥，灰階圖辨識與轉黑白後辨識有的時候會不同效益\n",
        "  def depointImg(img, ctrlV, ctrlK): # 二值化降噪辨識，大於ctrlV是為白點，超過ctrlK個白點轉白\n",
        "      img = img.convert(\"L\")\n",
        "      img = PIL.ImageOps.invert(img)\n",
        "      pixels = img.load()\n",
        "      w, h = img.size\n",
        "      for y in range(1, h - 1):\n",
        "          for x in range(1, w - 1):\n",
        "              count = 0\n",
        "              if pixels[x - 1, y - 1] > ctrlV:  # 左上\n",
        "                  count = count + 1\n",
        "              if pixels[x,     y - 1] > ctrlV:  # 上\n",
        "                  count = count + 1\n",
        "              if pixels[x + 1, y - 1] > ctrlV:  # 右上\n",
        "                  count = count + 1\n",
        "\n",
        "              if pixels[x - 1, y] > ctrlV:  # 左\n",
        "                  count = count + 1\n",
        "              if pixels[x + 1, y] > ctrlV:  # 右\n",
        "                  count = count + 1\n",
        "\n",
        "              if pixels[x - 1, y + 1] > ctrlV:  # 左下\n",
        "                  count = count + 1\n",
        "              if pixels[x,     y + 1] > ctrlV:  # 下\n",
        "                  count = count + 1\n",
        "              if pixels[x + 1, y + 1] > ctrlV:  # 右下\n",
        "                  count = count + 1\n",
        "\n",
        "              if count > ctrlK:\n",
        "                  pixels[x, y] = 255\n",
        "      return img\n",
        "\n",
        "\n",
        "  captcha5 = Image.open(fileName)\n",
        "  captcha5 = depointImg(captcha5, 10, 4)\n",
        "\n",
        "  result5 = pytesseract.image_to_string(captcha5)\n",
        "  print(result5)\n",
        "  #display(captcha5)\n",
        "\n",
        "  result4 = result4.replace(' ', '').strip()\n",
        "  result5 = result5.replace(' ', '').strip()\n",
        "  print('r4=' + result4)\n",
        "  print('r5=' + result5)\n",
        "  display(captcha4)\n",
        "  display(captcha5)\n",
        "  captchaCode=''\n",
        "\n",
        "  if len(result5)==5:\n",
        "      captchaCode=result5\n",
        "      print('captcha5 identified!!')\n",
        "  elif len(result4)==5:\n",
        "      captchaCode=result4\n",
        "      print('captcha4 identified!!')\n",
        "  else:\n",
        "      print('captcha identify failled!')\n",
        "      parseSuccess = \"No\"\n",
        "\n",
        "  if len(captchaCode)==5:\n",
        "      txtStkCode = wd.find_element(By.ID,\"TextBox_Stkno\")\n",
        "      txtStkCode.send_keys(stock)\n",
        "\n",
        "      txtCaptcha = wd.find_element(By.NAME,\"CaptchaControl1\")\n",
        "      txtCaptcha.send_keys(captchaCode)\n",
        "      btnOK = wd.find_element(By.NAME,\"btnOK\")\n",
        "      btnOK.click()\n",
        "      try:\n",
        "          dd = wd.find_element(By.ID,\"HyperLink_DownloadCSV\")\n",
        "          dd.click()\n",
        "          print('file downloading...')\n",
        "          sleep(10)\n",
        "          shutil.copy('/root/Downloads/'+ stock + \".csv\", '/content/'+ stock +'.csv')\n",
        "          while not os.path.exists(stock + \".csv\"):\n",
        "            sleep(2)\n",
        "            print(\"file downloading..wait\")\n",
        "          parseSuccess = \"Yes\"\n",
        "      except NoSuchElementException:\n",
        "          print('captcha code error!')\n",
        "          parseSuccess = \"No\"\n",
        "\n",
        "  print('chromedriver closing..')\n",
        "  wd.quit()\n",
        "  print('chromedriver closed..')\n",
        "\n",
        "  return parseSuccess\n"
      ]
    },
    {
      "cell_type": "code",
      "execution_count": 25,
      "metadata": {
        "id": "aHtjp4xZPqM_"
      },
      "outputs": [],
      "source": [
        "def GetProgressFromDropbox(machine):\n",
        "  import pandas as pd\n",
        "  fileProgress = \"bio\\\\\"+str(dateStartday)+\"\\\\\"+\"bio_progress\"+str(machine)+\".csv\"\n",
        "  GetFileFromDropbox(\"bio/\"+str(dateStartday)+\"/\"+\"bio_progress\"+str(machine)+\".csv\",\"\\\\\"+fileProgress )\n",
        "  loopsDropbox = pd.read_csv(\"\\\\\"+fileProgress, names=[\"col\"],header=None, dtype = str).col.tolist()\n",
        "  return loopsDropbox\n",
        "\n",
        "def SendProgressToDropbox(nowProgress,machine):\n",
        "  import pandas as pd\n",
        "  fileProgress = \"bio\\\\\"+str(dateStartday)+\"\\\\\"+\"bio_progress\" + str(machine) + \".csv\"\n",
        "  pd.DataFrame(nowProgress).to_csv(\"\\\\\"+fileProgress,index= False,header=False)\n",
        "  SendFileToDropbox(\"\\\\\"+fileProgress,\"bio/\"+str(dateStartday)+\"/\"+\"bio_progress\"+str(machine)+\".csv\")\n",
        "  print(\"Send Progress\"+ str(machine)+ \" to Dropbox ..\")"
      ]
    },
    {
      "cell_type": "code",
      "execution_count": 8,
      "metadata": {
        "id": "1CHSLbsEYNcO"
      },
      "outputs": [],
      "source": [
        "#print(\"====  \"+ \"Remain:\" +str(len(GetProgressFromDropbox())) + \"jobs\" + \"  =====\")"
      ]
    },
    {
      "cell_type": "code",
      "execution_count": 26,
      "metadata": {
        "id": "vdRKIGOKa4D4"
      },
      "outputs": [],
      "source": [
        "def DynamicLoopsParseBioCSV(machine):\n",
        "    from pathlib import Path\n",
        "\n",
        "    bioPath = \"bio\" + \"\\\\\" + str(dateStartday)\n",
        "    Path(bioPath).mkdir(parents=True, exist_ok=True)\n",
        "\n",
        "    try:\n",
        "      loopsDropbox = GetProgressFromDropbox(machine)\n",
        "      print(\"get bio progress from dropbox ..\")\n",
        "    except:\n",
        "      print('error:get bio progress from dropbox ..')\n",
        "      loopsDropbox = []\n",
        "\n",
        "    if len(loopsDropbox)==0:\n",
        "      print(\"new progress ..\")\n",
        "      if \"jf\" not in locals() and \"jf\" not in globals():\n",
        "        jf  = ParseTWSE_OHLC(dateStartday)\n",
        "      loops = LoopsTWSE_OHLC(jf)\n",
        "    else:\n",
        "      print(\"continue progress ..\")\n",
        "      loops = loopsDropbox\n",
        "\n",
        "    return loops,loopsDropbox"
      ]
    },
    {
      "cell_type": "code",
      "execution_count": 27,
      "metadata": {
        "id": "nvfn39_fviol"
      },
      "outputs": [],
      "source": [
        "def ExecuteLoopsBio(loops):\n",
        "  Line( str(machine)+\": start\")\n",
        "  for stock in loops:\n",
        "    #line to notify\n",
        "    #Line( str(machine)+\":\"+str(stock)+\",Remain:\"+str(len(loops)) )\n",
        "\n",
        "    #use selenium to download file\n",
        "    parseSuccess=\"No\"\n",
        "    try_counts = 0\n",
        "    while parseSuccess==\"No\" and try_counts<=20:\n",
        "      print(\"====  \"+str(stock)+\" parsing .. \"+\"  ====\")\n",
        "      parseSuccess = ParseBioCSV(stock)\n",
        "      sleep(randint(5,7))\n",
        "      clear_output(wait=True)\n",
        "      try_counts = try_counts+1\n",
        "\n",
        "    #rename file and send to dropbox\n",
        "    if parseSuccess == \"Yes\":\n",
        "      #Rename file\n",
        "      timestamp = (datetime.now()+timedelta(hours=8)).strftime(\"%Y%m%d_%H%M%S\")\n",
        "      boxfile   = str(stock)+\"_\"+timestamp+\".csv\"\n",
        "      os.rename(str(stock)+\".csv\",boxfile)\n",
        "      print('renameCSV closed..')\n",
        "\n",
        "      #send bio to Dropbox\n",
        "      SendFileToDropbox(boxfile, \"bio/\"+dateStartday +\"/\"+ boxfile)\n",
        "      print('csv to dropbox closed..')\n",
        "\n",
        "      #send progress to Dropbox\n",
        "      loops = loops[1:len(loops)]\n",
        "      SendProgressToDropbox(loops,machine)"
      ]
    },
    {
      "cell_type": "code",
      "execution_count": 71,
      "metadata": {
        "id": "0-5mgAMcxXfC",
        "colab": {
          "base_uri": "https://localhost:8080/",
          "height": 736
        },
        "outputId": "5741d3af-283f-4b64-b8b2-8b207ff6798c"
      },
      "outputs": [
        {
          "output_type": "stream",
          "name": "stdout",
          "text": [
            "renameCSV closed..\n",
            "csv to dropbox closed..\n",
            "Send Progress0 to Dropbox ..\n",
            "====  2317 parsing ..   ====\n",
            "chromedriver is lunching..\n",
            "chromedriver is ready..\n",
            "get web page....Start\n",
            "get web page....Done\n",
            "png saved\n",
            "EYG7A\n",
            "\f\n",
            "EY G7A\n",
            "\f\n",
            "r4=EYG7A\n",
            "r5=EYG7A\n"
          ]
        },
        {
          "output_type": "display_data",
          "data": {
            "text/plain": [
              "<PIL.Image.Image image mode=L size=200x60>"
            ],
            "image/png": "[encoded data removed]"
          },
          "metadata": {}
        },
        {
          "output_type": "display_data",
          "data": {
            "text/plain": [
              "<PIL.Image.Image image mode=L size=200x60>"
            ],
            "image/png": "[encoded data removed]"
          },
          "metadata": {}
        },
        {
          "output_type": "stream",
          "name": "stdout",
          "text": [
            "captcha5 identified!!\n",
            "file downloading...\n"
          ]
        },
        {
          "output_type": "error",
          "ename": "KeyboardInterrupt",
          "evalue": "",
          "traceback": [
            "\u001b[0;31m---------------------------------------------------------------------------\u001b[0m",
            "\u001b[0;31mKeyboardInterrupt\u001b[0m                         Traceback (most recent call last)",
            "\u001b[0;32m<ipython-input-71-bbe3b34b59d7>\u001b[0m in \u001b[0;36m<cell line: 7>\u001b[0;34m()\u001b[0m\n\u001b[1;32m      5\u001b[0m \u001b[0mwd\u001b[0m \u001b[0;34m=\u001b[0m \u001b[0mwebdriver\u001b[0m\u001b[0;34m.\u001b[0m\u001b[0mChrome\u001b[0m\u001b[0;34m(\u001b[0m\u001b[0moptions\u001b[0m\u001b[0;34m=\u001b[0m\u001b[0moptions\u001b[0m\u001b[0;34m)\u001b[0m\u001b[0;34m\u001b[0m\u001b[0;34m\u001b[0m\u001b[0m\n\u001b[1;32m      6\u001b[0m \u001b[0mloops\u001b[0m\u001b[0;34m,\u001b[0m\u001b[0mloopsDropbox\u001b[0m \u001b[0;34m=\u001b[0m \u001b[0mDynamicLoopsParseBioCSV\u001b[0m\u001b[0;34m(\u001b[0m\u001b[0mmachine\u001b[0m\u001b[0;34m)\u001b[0m\u001b[0;34m\u001b[0m\u001b[0;34m\u001b[0m\u001b[0m\n\u001b[0;32m----> 7\u001b[0;31m \u001b[0mExecuteLoopsBio\u001b[0m\u001b[0;34m(\u001b[0m\u001b[0mloops\u001b[0m\u001b[0;34m)\u001b[0m\u001b[0;34m\u001b[0m\u001b[0;34m\u001b[0m\u001b[0m\n\u001b[0m",
            "\u001b[0;32m<ipython-input-27-698a9e4cf40e>\u001b[0m in \u001b[0;36mExecuteLoopsBio\u001b[0;34m(loops)\u001b[0m\n\u001b[1;32m     10\u001b[0m     \u001b[0;32mwhile\u001b[0m \u001b[0mparseSuccess\u001b[0m\u001b[0;34m==\u001b[0m\u001b[0;34m\"No\"\u001b[0m \u001b[0;32mand\u001b[0m \u001b[0mtry_counts\u001b[0m\u001b[0;34m<=\u001b[0m\u001b[0;36m20\u001b[0m\u001b[0;34m:\u001b[0m\u001b[0;34m\u001b[0m\u001b[0;34m\u001b[0m\u001b[0m\n\u001b[1;32m     11\u001b[0m       \u001b[0mprint\u001b[0m\u001b[0;34m(\u001b[0m\u001b[0;34m\"====  \"\u001b[0m\u001b[0;34m+\u001b[0m\u001b[0mstr\u001b[0m\u001b[0;34m(\u001b[0m\u001b[0mstock\u001b[0m\u001b[0;34m)\u001b[0m\u001b[0;34m+\u001b[0m\u001b[0;34m\" parsing .. \"\u001b[0m\u001b[0;34m+\u001b[0m\u001b[0;34m\"  ====\"\u001b[0m\u001b[0;34m)\u001b[0m\u001b[0;34m\u001b[0m\u001b[0;34m\u001b[0m\u001b[0m\n\u001b[0;32m---> 12\u001b[0;31m       \u001b[0mparseSuccess\u001b[0m \u001b[0;34m=\u001b[0m \u001b[0mParseBioCSV\u001b[0m\u001b[0;34m(\u001b[0m\u001b[0mstock\u001b[0m\u001b[0;34m)\u001b[0m\u001b[0;34m\u001b[0m\u001b[0;34m\u001b[0m\u001b[0m\n\u001b[0m\u001b[1;32m     13\u001b[0m       \u001b[0msleep\u001b[0m\u001b[0;34m(\u001b[0m\u001b[0mrandint\u001b[0m\u001b[0;34m(\u001b[0m\u001b[0;36m5\u001b[0m\u001b[0;34m,\u001b[0m\u001b[0;36m7\u001b[0m\u001b[0;34m)\u001b[0m\u001b[0;34m)\u001b[0m\u001b[0;34m\u001b[0m\u001b[0;34m\u001b[0m\u001b[0m\n\u001b[1;32m     14\u001b[0m       \u001b[0mclear_output\u001b[0m\u001b[0;34m(\u001b[0m\u001b[0mwait\u001b[0m\u001b[0;34m=\u001b[0m\u001b[0;32mTrue\u001b[0m\u001b[0;34m)\u001b[0m\u001b[0;34m\u001b[0m\u001b[0;34m\u001b[0m\u001b[0m\n",
            "\u001b[0;32m<ipython-input-68-0724d6598180>\u001b[0m in \u001b[0;36mParseBioCSV\u001b[0;34m(stock)\u001b[0m\n\u001b[1;32m    180\u001b[0m           \u001b[0mdd\u001b[0m\u001b[0;34m.\u001b[0m\u001b[0mclick\u001b[0m\u001b[0;34m(\u001b[0m\u001b[0;34m)\u001b[0m\u001b[0;34m\u001b[0m\u001b[0;34m\u001b[0m\u001b[0m\n\u001b[1;32m    181\u001b[0m           \u001b[0mprint\u001b[0m\u001b[0;34m(\u001b[0m\u001b[0;34m'file downloading...'\u001b[0m\u001b[0;34m)\u001b[0m\u001b[0;34m\u001b[0m\u001b[0;34m\u001b[0m\u001b[0m\n\u001b[0;32m--> 182\u001b[0;31m           \u001b[0msleep\u001b[0m\u001b[0;34m(\u001b[0m\u001b[0;36m10\u001b[0m\u001b[0;34m)\u001b[0m\u001b[0;34m\u001b[0m\u001b[0;34m\u001b[0m\u001b[0m\n\u001b[0m\u001b[1;32m    183\u001b[0m           \u001b[0mshutil\u001b[0m\u001b[0;34m.\u001b[0m\u001b[0mcopy\u001b[0m\u001b[0;34m(\u001b[0m\u001b[0;34m'/root/Downloads/'\u001b[0m\u001b[0;34m+\u001b[0m \u001b[0mstock\u001b[0m \u001b[0;34m+\u001b[0m \u001b[0;34m\".csv\"\u001b[0m\u001b[0;34m,\u001b[0m \u001b[0;34m'/content/'\u001b[0m\u001b[0;34m+\u001b[0m \u001b[0mstock\u001b[0m \u001b[0;34m+\u001b[0m\u001b[0;34m'.csv'\u001b[0m\u001b[0;34m)\u001b[0m\u001b[0;34m\u001b[0m\u001b[0;34m\u001b[0m\u001b[0m\n\u001b[1;32m    184\u001b[0m           \u001b[0;32mwhile\u001b[0m \u001b[0;32mnot\u001b[0m \u001b[0mos\u001b[0m\u001b[0;34m.\u001b[0m\u001b[0mpath\u001b[0m\u001b[0;34m.\u001b[0m\u001b[0mexists\u001b[0m\u001b[0;34m(\u001b[0m\u001b[0mstock\u001b[0m \u001b[0;34m+\u001b[0m \u001b[0;34m\".csv\"\u001b[0m\u001b[0;34m)\u001b[0m\u001b[0;34m:\u001b[0m\u001b[0;34m\u001b[0m\u001b[0;34m\u001b[0m\u001b[0m\n",
            "\u001b[0;31mKeyboardInterrupt\u001b[0m: "
          ]
        }
      ],
      "source": [
        "from time import sleep\n",
        "from random import randint\n",
        "from IPython.display import clear_output\n",
        "import shutil\n",
        "\n",
        "wd = webdriver.Chrome(options=options)\n",
        "loops,loopsDropbox = DynamicLoopsParseBioCSV(machine)\n",
        "ExecuteLoopsBio(loops)"
      ]
    },
    {
      "cell_type": "code",
      "source": [],
      "metadata": {
        "id": "UVDA4lcS0xqS"
      },
      "execution_count": 70,
      "outputs": []
    },
    {
      "cell_type": "code",
      "execution_count": null,
      "metadata": {
        "id": "7VZJ04anP1Ld"
      },
      "outputs": [],
      "source": []
    }
  ],
  "metadata": {
    "colab": {
      "provenance": [],
      "include_colab_link": true
    },
    "kernelspec": {
      "display_name": "Python 3",
      "language": "python",
      "name": "python3"
    },
    "language_info": {
      "codemirror_mode": {
        "name": "ipython",
        "version": 3
      },
      "file_extension": ".py",
      "mimetype": "text/x-python",
      "name": "python",
      "nbconvert_exporter": "python",
      "pygments_lexer": "ipython3",
      "version": "3.8.5"
    }
  },
  "nbformat": 4,
  "nbformat_minor": 0
}