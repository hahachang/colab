{
  "nbformat": 4,
  "nbformat_minor": 0,
  "metadata": {
    "colab": {
      "name": "BioAssignMission",
      "provenance": [],
      "collapsed_sections": [],
      "authorship_tag": "ABX9TyMVFh2us0gY8TZJgqilhn/4",
      "include_colab_link": true
    },
    "kernelspec": {
      "name": "python3",
      "display_name": "Python 3"
    },
    "language_info": {
      "name": "python"
    }
  },
  "cells": [
    {
      "cell_type": "markdown",
      "metadata": {
        "id": "view-in-github",
        "colab_type": "text"
      },
      "source": [
        "<a href=\"https://colab.research.google.com/github/hahachang/colab/blob/main/BioAssignMission.ipynb\" target=\"_parent\"><img src=\"https://colab.research.google.com/assets/colab-badge.svg\" alt=\"Open In Colab\"/></a>"
      ]
    },
    {
      "cell_type": "code",
      "metadata": {
        "id": "kGBp8EjdQ5H4"
      },
      "source": [
        "countParallelMachine = 4"
      ],
      "execution_count": 38,
      "outputs": []
    },
    {
      "cell_type": "code",
      "metadata": {
        "colab": {
          "base_uri": "https://localhost:8080/"
        },
        "id": "RKSpegLsRL_j",
        "outputId": "72915df1-153c-461b-efaf-cfedb591c0c1"
      },
      "source": [
        "def StartdayParseStock():\n",
        "  from datetime import datetime, timedelta\n",
        "  if (datetime.now()+timedelta(hours=8)).strftime(\"%H%M%S\")<\"160000\":\n",
        "    date   = (datetime.now()+timedelta(hours=8)+timedelta(days=-1)).strftime(\"%Y%m%d\")  \n",
        "  else:\n",
        "    date   = (datetime.now()+timedelta(hours=8)).strftime(\"%Y%m%d\")\n",
        "  return date\n",
        "\n",
        "global dateStartday\n",
        "dateStartday =  StartdayParseStock()\n",
        "print(\"======  \" +  dateStartday  + \"  ======\"  )\n",
        "#dateStartday=\"20210514\""
      ],
      "execution_count": 1,
      "outputs": [
        {
          "output_type": "stream",
          "text": [
            "======  20210521  ======\n"
          ],
          "name": "stdout"
        }
      ]
    },
    {
      "cell_type": "code",
      "metadata": {
        "id": "ecRBGnkrRmmr"
      },
      "source": [
        "def ParseTWSE_OHLC(date):\n",
        "  #date format: str and continue number\n",
        "  #example    : \"20210514\"\n",
        "\n",
        "  print(\"ParseTWSE_OHLC lanuching ..\")\n",
        "  from urllib import request\n",
        "  import time\n",
        "  import json\n",
        "  def download_json(target_url):\n",
        "      opener = request.build_opener()\n",
        "      opener.addheaders = [('user-agent', 'Mozilla/5.0 (Windows NT 6.3; Win64; x64) AppleWebKit/537.36 (KHTML, like Gecko) Chrome/78.0.3904.108 Safari/537.36')]\n",
        "      request.install_opener(opener) \n",
        "      with request.urlopen(target_url) as url:\n",
        "          data = json.loads(url.read().decode())\n",
        "      return data\n",
        "  \n",
        "  #if (datetime.now()+timedelta(hours=8)).strftime(\"%H%M%S\")<\"160000\":\n",
        "  #  date   = (datetime.now()+timedelta(hours=8)+timedelta(days=-1)).strftime(\"%Y%m%d\")  \n",
        "  #else:\n",
        "  #  date   = (datetime.now()+timedelta(hours=8)).strftime(\"%Y%m%d\")\n",
        "  \n",
        "  timestamp = 1000*int(time.mktime(time.localtime()))\n",
        "  url_TWSE_OHLC = \"https://www.twse.com.tw/exchangeReport/MI_INDEX?response=json&date=\"+date+\"&type=ALL&_=\"+str(timestamp)\n",
        "  json_TWSE_OHLC = download_json(url_TWSE_OHLC)\n",
        "  print(\"ParseTWSE_OHLC closing ..\")\n",
        "  return json_TWSE_OHLC\n",
        "\n",
        "\n",
        "#def FilterStockTWSE_OHLC(jf):\n",
        "\n",
        "\n",
        "def LoopsTWSE_OHLC(jf):\n",
        "  import pandas as pd\n",
        "  df_raw_all_stock_price = pd.DataFrame(jf['data9'],columns=jf['fields9'])\n",
        "\n",
        "  #包含所有的權證及股票\n",
        "  df_all_stock_price = df_raw_all_stock_price.replace(',','', regex=True) \n",
        "  df_all_stock_price= df_all_stock_price.replace(',','', regex=True)\n",
        "  #去除comma\n",
        "\n",
        "  #去除所有權證\n",
        "  rule1 = [str(x).zfill(6) for x in range(30001,90000)] \n",
        "      #認購權證之代號為6個阿拉伯數字，編號從030001至089999。\n",
        "  rule2 = \"P|F|Q|C|B|X|Y\"\n",
        "      #認售權證之代號為5個阿拉伯數字後加上英文字「P」，編號從03001P至08999P。\n",
        "      #以外國交易所之指數或有價證券作為標的之認購權證代號為5個阿拉伯數字後加上英文字「F」，編號從03001F至08999F。\n",
        "      #以外國交易所之指數或有價證券作為標的之認售權證代號為5個阿拉伯數字後加上英文字「Q」，編號從03001Q至08999Q。\n",
        "      #牛證之代號為5個阿拉伯數字後加上英文字「C」，編號從03001C至08999C。\n",
        "      #熊證之代號為5個阿拉伯數字後加上英文字「B」，編號從03001B至08999B。\n",
        "      #展延型牛證之代號為5個阿拉伯數字後加上英文字「X」，編號從03001X至08999X。\n",
        "      #展延型熊證之代號為5個阿拉伯數字後加上英文字「Y」，編號從03001Y至08999Y。\n",
        "      \n",
        "  df_stock_price = df_all_stock_price[~df_all_stock_price.證券代號.isin(rule1)] \n",
        "  df_stock_price = df_stock_price[~df_stock_price.證券代號.str.contains(rule2)]\n",
        "\n",
        "  df_stock_price.成交金額 = df_stock_price.成交金額.astype(float)\n",
        "  loops = list(df_stock_price.sort_values(by=\"成交金額\",ascending=False)[\"證券代號\"].values)\n",
        "  return loops"
      ],
      "execution_count": 8,
      "outputs": []
    },
    {
      "cell_type": "code",
      "metadata": {
        "id": "aRlvNfQHRrBF"
      },
      "source": [
        "loops = LoopsTWSE_OHLC(ParseTWSE_OHLC(dateStartday))\n",
        "loops"
      ],
      "execution_count": null,
      "outputs": []
    },
    {
      "cell_type": "code",
      "metadata": {
        "id": "ZFnPM5TdTMF7"
      },
      "source": [
        "def partition(lst, n):\n",
        "    division = len(lst) / n\n",
        "    return [lst[round(division * i):round(division * (i + 1))] for i in range(n)]"
      ],
      "execution_count": 14,
      "outputs": []
    },
    {
      "cell_type": "code",
      "metadata": {
        "id": "gZdP9YB9TNud"
      },
      "source": [
        "missions = partition(loops,countParallelMachine)"
      ],
      "execution_count": 39,
      "outputs": []
    },
    {
      "cell_type": "code",
      "metadata": {
        "id": "HlWLB3r3VR-o"
      },
      "source": [
        "def SendFileToDropbox(fileLocal,fileDropbox):\n",
        "    ##### upload file to dropbox #####\n",
        "\n",
        "    try:\n",
        "        import dropbox\n",
        "        #print(\"module is installed\")\n",
        "    except ModuleNotFoundError:\n",
        "        print(\"module is not installed\")\n",
        "        # or\n",
        "        !pip install dropbox\n",
        "        import dropbox\n",
        "\n",
        "    from dropbox.files import WriteMode\n",
        "    from dropbox.exceptions import ApiError, AuthError\n",
        "    global tokenDropbox\n",
        "    tokenDropbox = \"9VjbJCirSqsAAAAAAAA1JuBzv7mujcQGbebgTGu2IjDup-N77QjVY8MEsg1ccizx\"\n",
        "    dbx = dropbox.Dropbox(tokenDropbox)\n",
        "    with open(fileLocal, 'rb') as f:\n",
        "      dbx.files_upload(f.read(), \"/\"+fileDropbox, mode=WriteMode('overwrite')) \n",
        "      f.close()\n",
        "\n",
        "def SendProgressToDropbox(nowProgress,machine):\n",
        "  import pandas as pd\n",
        "  fileProgress = \"bio\\\\\"+str(dateStartday)+\"\\\\\"+\"bio_progress\" + str(machine) + \".csv\" \n",
        "  pd.DataFrame(nowProgress).to_csv(\"\\\\\"+fileProgress,index= False,header=False)\n",
        "  SendFileToDropbox(\"\\\\\"+fileProgress,\"bio/\"+str(dateStartday)+\"/\"+\"bio_progress\"+str(machine)+\".csv\")\n",
        "  print(\"Send Progress\"+ str(machine) + \" to Dropbox ..\")"
      ],
      "execution_count": 46,
      "outputs": []
    },
    {
      "cell_type": "code",
      "metadata": {
        "colab": {
          "base_uri": "https://localhost:8080/"
        },
        "id": "_-B_wpRaWXUf",
        "outputId": "ab5c75f1-ee99-4f44-c98a-37c57631c392"
      },
      "source": [
        "for i in range(0,len(missions)):\n",
        "  print(i)\n",
        "  SendProgressToDropbox(missions[i],i)"
      ],
      "execution_count": 47,
      "outputs": [
        {
          "output_type": "stream",
          "text": [
            "0\n",
            "Send Progress0 to Dropbox ..\n",
            "1\n",
            "Send Progress1 to Dropbox ..\n",
            "2\n",
            "Send Progress2 to Dropbox ..\n",
            "3\n",
            "Send Progress3 to Dropbox ..\n"
          ],
          "name": "stdout"
        }
      ]
    }
  ]
}