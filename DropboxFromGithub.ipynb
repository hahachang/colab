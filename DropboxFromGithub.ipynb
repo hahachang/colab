{
  "nbformat": 4,
  "nbformat_minor": 0,
  "metadata": {
    "colab": {
      "name": "DropboxFromGithub.ipynb",
      "provenance": [],
      "collapsed_sections": [],
      "authorship_tag": "ABX9TyOLcC/f1m4sc8Kn5ZMZMlvt",
      "include_colab_link": true
    },
    "kernelspec": {
      "name": "python3",
      "display_name": "Python 3"
    },
    "language_info": {
      "name": "python"
    }
  },
  "cells": [
    {
      "cell_type": "markdown",
      "metadata": {
        "id": "view-in-github",
        "colab_type": "text"
      },
      "source": [
        "<a href=\"https://colab.research.google.com/github/hahachang/colab/blob/main/DropboxFromGithub.ipynb\" target=\"_parent\"><img src=\"https://colab.research.google.com/assets/colab-badge.svg\" alt=\"Open In Colab\"/></a>"
      ]
    },
    {
      "cell_type": "code",
      "metadata": {
        "id": "XITG0viq8mNf"
      },
      "source": [
        "def ListFilesOfDropbox(dirDropbox,recursive=None):\n",
        "    ##### List files of dropbox #####\n",
        "    try:\n",
        "        import dropbox\n",
        "        #print(\"module is installed\")\n",
        "    except ModuleNotFoundError:\n",
        "        print(\"module is not installed\")\n",
        "        # or\n",
        "        !pip install dropbox\n",
        "        import dropbox\n",
        "    if recursive==None:\n",
        "      recursive=True\n",
        "    from dropbox.files import WriteMode\n",
        "    from dropbox.exceptions import ApiError, AuthError\n",
        "    #global tokenDropbox\n",
        "    #tokenDropbox = \"\"\n",
        "    dbx = dropbox.Dropbox(tokenDropbox)\n",
        "    #cloud filelist\n",
        "    result = dbx.files_list_folder(dirDropbox, recursive=recursive)\n",
        "    filelistFromDropbox = []\n",
        "\n",
        "    def process_entries(entries):\n",
        "        for entry in entries:\n",
        "            if isinstance(entry, dropbox.files.FileMetadata):\n",
        "                filelistFromDropbox.append([entry.name])\n",
        "\n",
        "    process_entries(result.entries)\n",
        "\n",
        "    while result.has_more:\n",
        "        result = dbx.files_list_folder_continue(result.cursor)\n",
        "        process_entries(result.entries)\n",
        "\n",
        "    filelistFromDropbox = sum(filelistFromDropbox,[])\n",
        "    return(filelistFromDropbox)"
      ],
      "execution_count": null,
      "outputs": []
    },
    {
      "cell_type": "code",
      "metadata": {
        "id": "kWmln7Zq8qI7"
      },
      "source": [
        "def ListFolderOfDropbox(dirDropbox):\n",
        "    ##### List files of dropbox #####\n",
        "    try:\n",
        "        import dropbox\n",
        "        #print(\"module is installed\")\n",
        "    except ModuleNotFoundError:\n",
        "        print(\"module is not installed\")\n",
        "        # or\n",
        "        !pip install dropbox\n",
        "        import dropbox\n",
        "\n",
        "    from dropbox.files import WriteMode\n",
        "    from dropbox.exceptions import ApiError, AuthError\n",
        "    global tokenDropbox\n",
        "    #tokenDropbox = \"\"\n",
        "    dbx = dropbox.Dropbox(tokenDropbox)\n",
        "    result = dbx.files_list_folder(dirDropbox)\n",
        "    folderlistFromDropbox = []\n",
        "    for i in range(0,len(result.entries)-1):\n",
        "      folderlistFromDropbox.append(result.entries[i].path_display)\n",
        "    \n",
        "    return(folderlistFromDropbox)\n"
      ],
      "execution_count": null,
      "outputs": []
    },
    {
      "cell_type": "code",
      "metadata": {
        "id": "RziGmE4ZHP9J"
      },
      "source": [
        ""
      ],
      "execution_count": null,
      "outputs": []
    },
    {
      "cell_type": "code",
      "metadata": {
        "id": "5OwZXqyn8ssB"
      },
      "source": [
        "def FileMoveInDropbox(filepath_oldplace,filepath_newplace):\n",
        "    ##### List files of dropbox #####\n",
        "    try:\n",
        "        import dropbox\n",
        "        #print(\"module is installed\")\n",
        "    except ModuleNotFoundError:\n",
        "        print(\"module is not installed\")\n",
        "        # or\n",
        "        !pip install dropbox\n",
        "        import dropbox\n",
        "    if recursive==None:\n",
        "      recursive=True\n",
        "    from dropbox.files import WriteMode\n",
        "    from dropbox.exceptions import ApiError, AuthError\n",
        "    #global tokenDropbox\n",
        "    #tokenDropbox = \"\"\n",
        "    dbx = dropbox.Dropbox(tokenDropbox)\n",
        "    dbx.files_move(filepath_oldplace,filepath_newplace)"
      ],
      "execution_count": null,
      "outputs": []
    },
    {
      "cell_type": "code",
      "metadata": {
        "id": "NHBfpwsLHRvJ"
      },
      "source": [
        "def SendFileToDropbox(fileLocal,fileDropbox):\n",
        "    ##### upload file to dropbox #####\n",
        "\n",
        "    try:\n",
        "        import dropbox\n",
        "        #print(\"module is installed\")\n",
        "    except ModuleNotFoundError:\n",
        "        print(\"module is not installed\")\n",
        "        # or\n",
        "        !pip install dropbox\n",
        "        import dropbox\n",
        "\n",
        "    from dropbox.files import WriteMode\n",
        "    from dropbox.exceptions import ApiError, AuthError\n",
        "    #global tokenDropbox\n",
        "    #tokenDropbox = \"\"\n",
        "    dbx = dropbox.Dropbox(tokenDropbox)\n",
        "    with open(fileLocal, 'rb') as f:\n",
        "      dbx.files_upload(f.read(), \"/\"+fileDropbox, mode=WriteMode('overwrite')) \n",
        "      f.close()\n",
        "\n",
        "\n",
        "def GetFileFromDropbox(fileDropbox,fileLocal):\n",
        "    ##### download file frome dropbox #####\n",
        "    try:\n",
        "        import dropbox\n",
        "        #print(\"module is installed\")\n",
        "    except ModuleNotFoundError:\n",
        "        print(\"module is not installed\")\n",
        "        # or\n",
        "        !pip install dropbox\n",
        "        import dropbox\n",
        "\n",
        "    from dropbox.files import WriteMode\n",
        "    from dropbox.exceptions import ApiError, AuthError\n",
        "    #global tokenDropbox\n",
        "    #tokenDropbox = \"\"\n",
        "    dbx = dropbox.Dropbox(tokenDropbox)\n",
        "    with open(fileLocal, \"wb\") as f:\n",
        "      metadata, res = dbx.files_download(\"/\"+fileDropbox)\n",
        "      f.write(res.content)"
      ],
      "execution_count": null,
      "outputs": []
    }
  ]
}