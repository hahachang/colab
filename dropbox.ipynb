{
  "nbformat": 4,
  "nbformat_minor": 0,
  "metadata": {
    "colab": {
      "provenance": [],
      "authorship_tag": "ABX9TyMiVQqadNahCbdCjGflYZLt",
      "include_colab_link": true
    },
    "kernelspec": {
      "name": "python3",
      "display_name": "Python 3"
    },
    "language_info": {
      "name": "python"
    }
  },
  "cells": [
    {
      "cell_type": "markdown",
      "metadata": {
        "id": "view-in-github",
        "colab_type": "text"
      },
      "source": [
        "<a href=\"https://colab.research.google.com/github/hahachang/colab/blob/main/dropbox.ipynb\" target=\"_parent\"><img src=\"https://colab.research.google.com/assets/colab-badge.svg\" alt=\"Open In Colab\"/></a>"
      ]
    },
    {
      "cell_type": "code",
      "execution_count": 15,
      "metadata": {
        "id": "qJPgBW1AAEM8"
      },
      "outputs": [],
      "source": [
        "class dropbox:\n",
        "  @staticmethod\n",
        "  def ls(dirDropbox):\n",
        "      #dropbox.ls(\"/bio/\"+\"20230328\"+\"/\")\n",
        "      ##### List files of dropbox #####\n",
        "      try:\n",
        "          import dropbox\n",
        "          #print(\"module is installed\")\n",
        "      except ModuleNotFoundError:\n",
        "          print(\"module is not installed\")\n",
        "          # or\n",
        "          !pip install dropbox\n",
        "          import dropbox\n",
        "\n",
        "      from dropbox.files import WriteMode\n",
        "      from dropbox.exceptions import ApiError, AuthError\n",
        "\n",
        "      dbx = dropbox.Dropbox(tokenDropbox)\n",
        "      #cloud filelist\n",
        "      result = dbx.files_list_folder(dirDropbox, recursive=True)\n",
        "      filelistFromDropbox = []\n",
        "\n",
        "      def process_entries(entries):\n",
        "          for entry in entries:\n",
        "              if isinstance(entry, dropbox.files.FileMetadata):\n",
        "                  filelistFromDropbox.append([entry.name])\n",
        "\n",
        "      process_entries(result.entries)\n",
        "\n",
        "      while result.has_more:\n",
        "          result = dbx.files_list_folder_continue(result.cursor)\n",
        "          process_entries(result.entries)\n",
        "\n",
        "      filelistFromDropbox = sum(filelistFromDropbox,[])\n",
        "      return(filelistFromDropbox)\n",
        "\n",
        "  @staticmethod\n",
        "  def upload(fileLocal,fileDropbox):\n",
        "      ##### upload file to dropbox #####\n",
        "\n",
        "      try:\n",
        "          import dropbox\n",
        "          #print(\"module is installed\")\n",
        "      except ModuleNotFoundError:\n",
        "          print(\"module is not installed\")\n",
        "          # or\n",
        "          !pip install dropbox\n",
        "          import dropbox\n",
        "\n",
        "      from dropbox.files import WriteMode\n",
        "      from dropbox.exceptions import ApiError, AuthError\n",
        "\n",
        "      dbx = dropbox.Dropbox(tokenDropbox)\n",
        "      with open(fileLocal, 'rb') as f:\n",
        "        dbx.files_upload(f.read(), \"/\"+fileDropbox, mode=WriteMode('overwrite')) \n",
        "        f.close()\n",
        "\n",
        "  @staticmethod\n",
        "  def download(fileDropbox,fileLocal):\n",
        "      #dropbox.download(\"/bio/\"+ \"20230328\" +\"/\"+\"2539_20230328_172628.csv\",\"\\\\\"+\"2539_20230328_172628.csv\")\n",
        "      ##### download file frome dropbox #####\n",
        "      try:\n",
        "          import dropbox\n",
        "          #print(\"module is installed\")\n",
        "      except ModuleNotFoundError:\n",
        "          print(\"module is not installed\")\n",
        "          # or\n",
        "          !pip install dropbox==9.5.0\n",
        "          import dropbox\n",
        "\n",
        "      from dropbox.files import WriteMode\n",
        "      from dropbox.exceptions import ApiError, AuthError\n",
        "\n",
        "\n",
        "      dbx = dropbox.Dropbox(tokenDropbox)\n",
        "      with open(fileLocal, \"wb\") as f:\n",
        "        metadata, res = dbx.files_download(fileDropbox)\n",
        "        f.write(res.content)"
      ]
    }
  ]
}