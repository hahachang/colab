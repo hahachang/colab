{
  "cells": [
    {
      "cell_type": "markdown",
      "metadata": {
        "id": "view-in-github",
        "colab_type": "text"
      },
      "source": [
        "<a href=\"https://colab.research.google.com/github/hahachang/colab/blob/main/JobsBioParse2.ipynb\" target=\"_parent\"><img src=\"https://colab.research.google.com/assets/colab-badge.svg\" alt=\"Open In Colab\"/></a>"
      ]
    },
    {
      "cell_type": "markdown",
      "metadata": {
        "id": "VIfGeRwAakxk"
      },
      "source": [
        "# 環境設定"
      ]
    },
    {
      "cell_type": "code",
      "execution_count": null,
      "metadata": {
        "colab": {
          "base_uri": "https://localhost:8080/"
        },
        "id": "KilzP2OvLxi6",
        "outputId": "6298da67-4b90-4144-ec58-376da9775d83"
      },
      "outputs": [
        {
          "output_type": "stream",
          "name": "stdout",
          "text": [
            "Collecting selenium\n",
            "  Downloading selenium-4.1.0-py3-none-any.whl (958 kB)\n",
            "\u001b[K     |████████████████████████████████| 958 kB 5.2 MB/s \n",
            "\u001b[?25hCollecting urllib3[secure]~=1.26\n",
            "  Downloading urllib3-1.26.7-py2.py3-none-any.whl (138 kB)\n",
            "\u001b[K     |████████████████████████████████| 138 kB 51.6 MB/s \n",
            "\u001b[?25hCollecting trio-websocket~=0.9\n",
            "  Downloading trio_websocket-0.9.2-py3-none-any.whl (16 kB)\n",
            "Collecting trio~=0.17\n",
            "  Downloading trio-0.19.0-py3-none-any.whl (356 kB)\n",
            "\u001b[K     |████████████████████████████████| 356 kB 46.3 MB/s \n",
            "\u001b[?25hCollecting outcome\n",
            "  Downloading outcome-1.1.0-py2.py3-none-any.whl (9.7 kB)\n",
            "Requirement already satisfied: sortedcontainers in /usr/local/lib/python3.7/dist-packages (from trio~=0.17->selenium) (2.4.0)\n",
            "Requirement already satisfied: attrs>=19.2.0 in /usr/local/lib/python3.7/dist-packages (from trio~=0.17->selenium) (21.2.0)\n",
            "Collecting sniffio\n",
            "  Downloading sniffio-1.2.0-py3-none-any.whl (10 kB)\n",
            "Requirement already satisfied: idna in /usr/local/lib/python3.7/dist-packages (from trio~=0.17->selenium) (2.10)\n",
            "Collecting async-generator>=1.9\n",
            "  Downloading async_generator-1.10-py3-none-any.whl (18 kB)\n",
            "Collecting wsproto>=0.14\n",
            "  Downloading wsproto-1.0.0-py3-none-any.whl (24 kB)\n",
            "Collecting pyOpenSSL>=0.14\n",
            "  Downloading pyOpenSSL-21.0.0-py2.py3-none-any.whl (55 kB)\n",
            "\u001b[K     |████████████████████████████████| 55 kB 2.6 MB/s \n",
            "\u001b[?25hRequirement already satisfied: certifi in /usr/local/lib/python3.7/dist-packages (from urllib3[secure]~=1.26->selenium) (2021.10.8)\n",
            "Collecting cryptography>=1.3.4\n",
            "  Downloading cryptography-36.0.1-cp36-abi3-manylinux_2_24_x86_64.whl (3.6 MB)\n",
            "\u001b[K     |████████████████████████████████| 3.6 MB 47.0 MB/s \n",
            "\u001b[?25hRequirement already satisfied: cffi>=1.12 in /usr/local/lib/python3.7/dist-packages (from cryptography>=1.3.4->urllib3[secure]~=1.26->selenium) (1.15.0)\n",
            "Requirement already satisfied: pycparser in /usr/local/lib/python3.7/dist-packages (from cffi>=1.12->cryptography>=1.3.4->urllib3[secure]~=1.26->selenium) (2.21)\n",
            "Requirement already satisfied: six>=1.5.2 in /usr/local/lib/python3.7/dist-packages (from pyOpenSSL>=0.14->urllib3[secure]~=1.26->selenium) (1.15.0)\n",
            "Collecting h11<1,>=0.9.0\n",
            "  Downloading h11-0.12.0-py3-none-any.whl (54 kB)\n",
            "\u001b[K     |████████████████████████████████| 54 kB 2.8 MB/s \n",
            "\u001b[?25hInstalling collected packages: sniffio, outcome, h11, cryptography, async-generator, wsproto, urllib3, trio, pyOpenSSL, trio-websocket, selenium\n"
          ]
        }
      ],
      "source": [
        "#環境設定\n",
        "!pip install selenium\n",
        "!apt-get update # to update ubuntu to correctly run apt install\n",
        "!apt install chromium-chromedriver\n",
        "!cp /usr/lib/chromium-browser/chromedriver /usr/bin\n",
        "\n",
        "#wget https://chromedriver.storage.googleapis.com/96.0.4664.45/chromedriver_linux64.zip\n",
        "#!unzip /content/colab/chromedriver_linux64.zip\n",
        "#!cp /content/colab/chromedriver /usr/lib\n",
        "#!cp /content/colab/chromedriver /usr/bin\n",
        "\n",
        "#sys.path.insert(0,'/usr/bin/chromedriver')\n",
        "!sudo apt install tesseract-ocr\n",
        "!pip install pytesseract"
      ]
    },
    {
      "cell_type": "markdown",
      "metadata": {
        "id": "HKsMQGWRawkA"
      },
      "source": [
        "# 共通程式"
      ]
    },
    {
      "cell_type": "code",
      "execution_count": null,
      "metadata": {
        "id": "El7P4xda0opS"
      },
      "outputs": [],
      "source": [
        "# Line Notify\n",
        "def Line(msg,path_pic=None):\n",
        "    import requests\n",
        "    global tokenDropbox\n",
        "    tokenLine = 'apfSt2nGRwzBuCuFWtH9qRCX8BGATHEyCiBAIQzAwup'\n",
        "\n",
        "    headers = {\n",
        "        \"Authorization\": \"Bearer \" + tokenLine\n",
        "    }\n",
        "    payload = {'message': msg}\n",
        "    if path_pic!=None:\n",
        "      files = {'imageFile':open(path_pic,'rb')}\n",
        "      r = requests.post(\"https://notify-api.line.me/api/notify\", headers = headers, params = payload,files=files)\n",
        "    else:\n",
        "      r = requests.post(\"https://notify-api.line.me/api/notify\", headers = headers, params = payload)\n",
        "    return r.status_code\n",
        "\n",
        "def SendFileToDropbox(fileLocal,fileDropbox):\n",
        "    ##### upload file to dropbox #####\n",
        "\n",
        "    try:\n",
        "        import dropbox\n",
        "        #print(\"module is installed\")\n",
        "    except ModuleNotFoundError:\n",
        "        print(\"module is not installed\")\n",
        "        # or\n",
        "        !pip install dropbox\n",
        "        import dropbox\n",
        "\n",
        "    from dropbox.files import WriteMode\n",
        "    from dropbox.exceptions import ApiError, AuthError\n",
        "    global tokenDropbox\n",
        "    tokenDropbox = \"9VjbJCirSqsAAAAAAAA1JuBzv7mujcQGbebgTGu2IjDup-N77QjVY8MEsg1ccizx\"\n",
        "    dbx = dropbox.Dropbox(tokenDropbox)\n",
        "    with open(fileLocal, 'rb') as f:\n",
        "      dbx.files_upload(f.read(), \"/\"+fileDropbox, mode=WriteMode('overwrite')) \n",
        "      f.close()\n",
        "\n",
        "\n",
        "def GetFileFromDropbox(fileDropbox,fileLocal):\n",
        "    ##### download file frome dropbox #####\n",
        "    try:\n",
        "        import dropbox\n",
        "        #print(\"module is installed\")\n",
        "    except ModuleNotFoundError:\n",
        "        print(\"module is not installed\")\n",
        "        # or\n",
        "        !pip install dropbox\n",
        "        import dropbox\n",
        "\n",
        "    from dropbox.files import WriteMode\n",
        "    from dropbox.exceptions import ApiError, AuthError\n",
        "    global tokenDropbox\n",
        "    tokenDropbox = \"9VjbJCirSqsAAAAAAAA1JuBzv7mujcQGbebgTGu2IjDup-N77QjVY8MEsg1ccizx\"\n",
        "    dbx = dropbox.Dropbox(tokenDropbox)\n",
        "    with open(fileLocal, \"wb\") as f:\n",
        "      metadata, res = dbx.files_download(\"/\"+fileDropbox)\n",
        "      f.write(res.content)"
      ]
    },
    {
      "cell_type": "code",
      "execution_count": null,
      "metadata": {
        "id": "7y5M_W7GpoW9"
      },
      "outputs": [],
      "source": [
        "#設定\n",
        "import sys\n",
        "import os\n",
        "import base64 \n",
        "import datetime\n",
        "import time\n",
        "import json\n",
        "import pandas as pd\n",
        "\n",
        "from datetime import datetime,timedelta\n",
        "from pathlib import Path \n",
        "from urllib.parse import urlparse\n",
        "from selenium import webdriver\n",
        "from selenium.common.exceptions import NoSuchElementException\n",
        "\n",
        "#global\n",
        "#global tokenDropbox,tokenLine\n",
        "#tokenDropbox = \"9VjbJCirSqsAAAAAAAA1JuBzv7mujcQGbebgTGu2IjDup-N77QjVY8MEsg1ccizx\"\n",
        "#tokenLine = 'apfSt2nGRwzBuCuFWtH9qRCX8BGATHEyCiBAIQzAwup'\n",
        "\n",
        "#設定Selenium\n",
        "options = webdriver.ChromeOptions()\n",
        "options.add_argument('--headless')\n",
        "options.add_argument('--no-sandbox')\n",
        "options.add_argument('--disable-dev-shm-usage')\n",
        "\n",
        "prjName = \"OCR_Img_twse_bsr\"\n",
        "\n",
        "headLess = True\n",
        "\n",
        "Path(prjName).mkdir(parents=True, exist_ok=True)\n",
        "\n",
        "# 如要使用Chrome瀏覽器，需使用相對應版本的ChromeDriver\n",
        "# Src: https://chromedriver.chromium.org/\n",
        "wdPath = '/usr/lib/chromium-browser/chromedriver'\n",
        "#wdPath = '/usr/lib/chromedriver'"
      ]
    },
    {
      "cell_type": "markdown",
      "metadata": {
        "id": "sYPVWX_vbEz5"
      },
      "source": [
        "# 函數:Stock"
      ]
    },
    {
      "cell_type": "code",
      "execution_count": null,
      "metadata": {
        "id": "6RfYQBiuTKvw"
      },
      "outputs": [],
      "source": [
        "def StartdayParseStock():\n",
        "  from datetime import datetime, timedelta\n",
        "  if (datetime.now()+timedelta(hours=8)).strftime(\"%H%M%S\")<\"160000\":\n",
        "    date   = (datetime.now()+timedelta(hours=8)+timedelta(days=-1)).strftime(\"%Y%m%d\")  \n",
        "  else:\n",
        "    date   = (datetime.now()+timedelta(hours=8)).strftime(\"%Y%m%d\")\n",
        "  return date\n",
        "\n",
        "global dateStartday\n",
        "dateStartday =  StartdayParseStock()\n",
        "print(\"======  \" +  dateStartday  + \"  ======\"  )\n",
        "#dateStartday=\"20210514\""
      ]
    },
    {
      "cell_type": "code",
      "execution_count": null,
      "metadata": {
        "id": "jla9Yp8CTk7r"
      },
      "outputs": [],
      "source": [
        ""
      ]
    },
    {
      "cell_type": "code",
      "execution_count": null,
      "metadata": {
        "id": "jztK3Iam9SAL"
      },
      "outputs": [],
      "source": [
        ""
      ]
    },
    {
      "cell_type": "code",
      "execution_count": null,
      "metadata": {
        "id": "h4XomNj-AtGY"
      },
      "outputs": [],
      "source": [
        "def ParseBioCSV(stock):\n",
        "  print('chromedriver is lunching..')\n",
        "  wd = webdriver.Chrome(options=options)\n",
        "  #time.sleep(1)\n",
        "  print('chromedriver is ready..')\n",
        "\n",
        "  #抓取captcha\n",
        "  urlString = \"https://bsr.twse.com.tw/bshtm/bsMenu.aspx\"\n",
        "  parsed_uri = urlparse(urlString)\n",
        "  # from urlparse import urlparse  # Python 2\n",
        "  #result = '{uri.scheme}://{uri.netloc}/'.format(uri=parsed_uri)\n",
        "  sitePath = '{uri.hostname}'.format(uri=parsed_uri)\n",
        "\n",
        "  imgPath = prjName + \"\\\\\" + sitePath\n",
        "  Path(imgPath).mkdir(parents=True, exist_ok=True)\n",
        "\n",
        "  print('get web page....Start')\n",
        "  wd.get(urlString)\n",
        "  #time.sleep(1)\n",
        "  print('get web page....Done')\n",
        "\n",
        "  def get_captcha_img(): # return saved file's name\n",
        "      # 此網站的動態驗證碼是存放在 tag img\n",
        "      #target_img = wd.find_element_by_id(\"authPic\")\n",
        "      target_img = wd.find_element_by_css_selector(\"#Panel_bshtm img\")\n",
        "      \n",
        "      # get the canvas as a PNG base64 string\n",
        "      img_base64 = wd.execute_script(\"x=arguments[0];c=document.createElement('canvas');c.width=x.width,c.height=x.height;t=c.getContext('2d');t.drawImage(x, 0, 0);return c.toDataURL('image/png').substring(21);\", target_img)\n",
        "      \n",
        "      # decode\n",
        "      img_png = base64.b64decode(img_base64)\n",
        "      \n",
        "      # save to a file\n",
        "      dtNow = datetime.now()\n",
        "      \n",
        "      fileName = '{}\\\\{}{}{}_{}{}{}.png'\n",
        "      fileName = fileName.format(imgPath, dtNow.strftime(\"%Y\"), dtNow.strftime(\"%m\"), dtNow.strftime(\"%d\"), dtNow.strftime(\"%H\"), dtNow.strftime(\"%M\"), dtNow.strftime(\"%S\"))\n",
        "      with open(fileName, 'wb') as f:\n",
        "          f.write(img_png)\n",
        "      return fileName\n",
        "\n",
        "  fileName=get_captcha_img()\n",
        "\n",
        "  print('png saved')\n",
        "\n",
        "  #OCR\n",
        "  # 載入圖形相關函式\n",
        "\n",
        "  try:\n",
        "      from PIL import Image\n",
        "  except ImportError:\n",
        "      import Image\n",
        "  import PIL.ImageOps \n",
        "  import pytesseract\n",
        "\n",
        "  from IPython.display import display\n",
        "\n",
        "  def convert_img1(img, threshold): # 先灰階，轉補色，再黑白處理\n",
        "      img = img.convert(\"L\")  # 轉為灰階\n",
        "      img = PIL.ImageOps.invert(img)\n",
        "      pixels = img.load()\n",
        "      for x in range(img.width):\n",
        "          for y in range(img.height):\n",
        "              if pixels[x, y] > threshold:\n",
        "                  pixels[x, y] = 255\n",
        "              else:\n",
        "                  pixels[x, y] = 0\n",
        "      return img\n",
        "\n",
        "  # 8鄰域降燥辨識\n",
        "  def noise_remove_pil(img, ctrlG, ctrlK): # 8鄰域降噪, ctrlG:小餘折是非白, ctrlK:小於ctrlK個非白點就轉白\n",
        "      def calculate_noise_count(img_obj, w, h): # 計算鄰域非白色的個數\n",
        "          count = 0\n",
        "          width, height = img_obj.size\n",
        "          for _w_ in [w - 1, w, w + 1]:\n",
        "              for _h_ in [h - 1, h, h + 1]:\n",
        "                  if _w_ > width - 1:\n",
        "                      continue\n",
        "                  if _h_ > height - 1:\n",
        "                      continue\n",
        "                  if _w_ == w and _h_ == h:\n",
        "                      continue\n",
        "                  if img_obj.getpixel((_w_, _h_)) < ctrlG:  # 這裡因為是灰度影像，設定小於230為非白色\n",
        "                      count += 1\n",
        "          return count\n",
        "\n",
        "      img = img.convert(\"L\")\n",
        "      img = PIL.ImageOps.invert(img)\n",
        "      w, h = img.size\n",
        "      \n",
        "      for _w in range(w):\n",
        "          for _h in range(h):\n",
        "              if _w == 0 or _h == 0:\n",
        "                  img.putpixel((_w, _h), 255)\n",
        "                  continue\n",
        "              pixel = img.getpixel((_w, _h))\n",
        "              if pixel == 255:\n",
        "                  continue\n",
        "\n",
        "              # 計算鄰域非白色的個數\n",
        "              if calculate_noise_count(img, _w, _h) < ctrlK:\n",
        "                  img.putpixel((_w, _h), 255)\n",
        "      return img\n",
        "\n",
        "  captcha4 = Image.open(fileName)\n",
        "  captcha4 = noise_remove_pil(captcha4, 10, 4)\n",
        "\n",
        "  result4 = pytesseract.image_to_string(captcha4)\n",
        "  print(result4)\n",
        "  #display(captcha4)\n",
        "\n",
        "  # 二值化降噪辨識，又稱8鄰域降燥，灰階圖辨識與轉黑白後辨識有的時候會不同效益\n",
        "  def depointImg(img, ctrlV, ctrlK): # 二值化降噪辨識，大於ctrlV是為白點，超過ctrlK個白點轉白\n",
        "      img = img.convert(\"L\")\n",
        "      img = PIL.ImageOps.invert(img)\n",
        "      pixels = img.load()\n",
        "      w, h = img.size\n",
        "      for y in range(1, h - 1):\n",
        "          for x in range(1, w - 1):\n",
        "              count = 0\n",
        "              if pixels[x - 1, y - 1] > ctrlV:  # 左上\n",
        "                  count = count + 1\n",
        "              if pixels[x,     y - 1] > ctrlV:  # 上\n",
        "                  count = count + 1\n",
        "              if pixels[x + 1, y - 1] > ctrlV:  # 右上\n",
        "                  count = count + 1\n",
        "                  \n",
        "              if pixels[x - 1, y] > ctrlV:  # 左\n",
        "                  count = count + 1\n",
        "              if pixels[x + 1, y] > ctrlV:  # 右\n",
        "                  count = count + 1\n",
        "\n",
        "              if pixels[x - 1, y + 1] > ctrlV:  # 左下\n",
        "                  count = count + 1\n",
        "              if pixels[x,     y + 1] > ctrlV:  # 下\n",
        "                  count = count + 1\n",
        "              if pixels[x + 1, y + 1] > ctrlV:  # 右下\n",
        "                  count = count + 1\n",
        "                  \n",
        "              if count > ctrlK:\n",
        "                  pixels[x, y] = 255\n",
        "      return img\n",
        "\n",
        "\n",
        "  captcha5 = Image.open(fileName)\n",
        "  captcha5 = depointImg(captcha5, 10, 4)\n",
        "\n",
        "  result5 = pytesseract.image_to_string(captcha5)\n",
        "  print(result5)\n",
        "  #display(captcha5)\n",
        "\n",
        "  result4 = result4.replace(' ', '').strip()\n",
        "  result5 = result5.replace(' ', '').strip()\n",
        "  print('r4=' + result4)\n",
        "  print('r5=' + result5)\n",
        "  display(captcha4)\n",
        "  display(captcha5)\n",
        "  captchaCode=''\n",
        "\n",
        "  if len(result5)==5:\n",
        "      captchaCode=result5\n",
        "      print('captcha5 identified!!')\n",
        "  elif len(result4)==5:\n",
        "      captchaCode=result4\n",
        "      print('captcha4 identified!!')\n",
        "  else:\n",
        "      print('captcha identify failled!')\n",
        "      parseSuccess = \"No\"\n",
        "\n",
        "  if len(captchaCode)==5:\n",
        "      txtStkCode = wd.find_element(By.ID,\"TextBox_Stkno\")\n",
        "      txtStkCode.send_keys(stock)\n",
        "    \n",
        "      txtCaptcha = wd.find_element(By.NAME,\"CaptchaControl1\")\n",
        "      txtCaptcha.send_keys(captchaCode)\n",
        "      btnOK = wd.find_element(By.ID,\"btnOK\")\n",
        "      btnOK.click()\n",
        "      try:\n",
        "          dd = wd.find_element(By.ID,\"HyperLink_DownloadCSV\") \n",
        "          dd.click()\n",
        "          print('file downloading...')\n",
        "          sleep(5)\n",
        "          while not os.path.exists(stock + \".csv\"):\n",
        "            sleep(2)\n",
        "            print(\"file downloading..wait\")    \n",
        "          parseSuccess = \"Yes\"\n",
        "      except NoSuchElementException:\n",
        "          print('captcha code error!')\n",
        "          parseSuccess = \"No\"\n",
        "\n",
        "  print('chromedriver closing..')\n",
        "  wd.quit()\n",
        "  print('chromedriver closed..')\n",
        "  \n",
        "  return parseSuccess  \n"
      ]
    },
    {
      "cell_type": "markdown",
      "metadata": {
        "id": "qdEZkr61bgXW"
      },
      "source": [
        "# 主程式:StockBio"
      ]
    },
    {
      "cell_type": "code",
      "execution_count": null,
      "metadata": {
        "id": "aHtjp4xZPqM_"
      },
      "outputs": [],
      "source": [
        "def GetProgressFromDropbox(machine):\n",
        "  import pandas as pd\n",
        "  fileProgress = \"bio\\\\\"+str(dateStartday)+\"\\\\\"+\"bio_progress\"+str(machine)+\".csv\" \n",
        "  GetFileFromDropbox(\"bio/\"+str(dateStartday)+\"/\"+\"bio_progress\"+str(machine)+\".csv\",\"\\\\\"+fileProgress )\n",
        "  loopsDropbox = pd.read_csv(\"\\\\\"+fileProgress, names=[\"col\"],header=None, dtype = str).col.tolist()\n",
        "  return loopsDropbox\n",
        "\n",
        "def SendProgressToDropbox(nowProgress,machine):\n",
        "  import pandas as pd\n",
        "  fileProgress = \"bio\\\\\"+str(dateStartday)+\"\\\\\"+\"bio_progress\" + str(machine) + \".csv\" \n",
        "  pd.DataFrame(nowProgress).to_csv(\"\\\\\"+fileProgress,index= False,header=False)\n",
        "  SendFileToDropbox(\"\\\\\"+fileProgress,\"bio/\"+str(dateStartday)+\"/\"+\"bio_progress\"+str(machine)+\".csv\")\n",
        "  print(\"Send Progress\"+ str(machine)+ \" to Dropbox ..\")"
      ]
    },
    {
      "cell_type": "code",
      "execution_count": null,
      "metadata": {
        "id": "1CHSLbsEYNcO"
      },
      "outputs": [],
      "source": [
        "#print(\"====  \"+ \"Remain:\" +str(len(GetProgressFromDropbox())) + \"jobs\" + \"  =====\")"
      ]
    },
    {
      "cell_type": "code",
      "execution_count": null,
      "metadata": {
        "id": "vdRKIGOKa4D4"
      },
      "outputs": [],
      "source": [
        "def DynamicLoopsParseBioCSV(machine):\n",
        "    from pathlib import Path \n",
        "\n",
        "    bioPath = \"bio\" + \"\\\\\" + str(dateStartday)\n",
        "    Path(bioPath).mkdir(parents=True, exist_ok=True)\n",
        "\n",
        "    try:\n",
        "      loopsDropbox = GetProgressFromDropbox(machine)\n",
        "      print(\"get bio progress from dropbox ..\")\n",
        "    except:\n",
        "      print('error:get bio progress from dropbox ..')\n",
        "      loopsDropbox = []\n",
        "\n",
        "    if len(loopsDropbox)==0:\n",
        "      print(\"new progress ..\")\n",
        "      if \"jf\" not in locals() and \"jf\" not in globals():\n",
        "        jf  = ParseTWSE_OHLC(dateStartday)\n",
        "      loops = LoopsTWSE_OHLC(jf)\n",
        "    else:\n",
        "      print(\"continue progress ..\")\n",
        "      loops = loopsDropbox\n",
        "    \n",
        "    return loops,loopsDropbox"
      ]
    },
    {
      "cell_type": "code",
      "execution_count": null,
      "metadata": {
        "id": "nvfn39_fviol"
      },
      "outputs": [],
      "source": [
        "def ExecuteLoopsBio(loops):\n",
        "  Line( str(machine)+\": start\")\n",
        "  for stock in loops:\n",
        "    #line to notify\n",
        "    #Line( str(machine)+\":\"+str(stock)+\",Remain:\"+str(len(loops)) )\n",
        "    \n",
        "    #use selenium to download file\n",
        "    parseSuccess=\"No\"\n",
        "    while parseSuccess==\"No\":\n",
        "      print(\"====  \"+str(stock)+\" parsing .. \"+\"  ====\")\n",
        "      parseSuccess = ParseBioCSV(stock)\n",
        "      sleep(randint(5,7))\n",
        "      clear_output(wait=True)\n",
        "      \n",
        "    #rename file and send to dropbox \n",
        "    if parseSuccess == \"Yes\":\n",
        "      #Rename file\n",
        "      timestamp = (datetime.now()+timedelta(hours=8)).strftime(\"%Y%m%d_%H%M%S\")\n",
        "      boxfile   = str(stock)+\"_\"+timestamp+\".csv\"\n",
        "      os.rename(str(stock)+\".csv\",boxfile)\n",
        "      print('renameCSV closed..')\n",
        "\n",
        "      #send bio to Dropbox\n",
        "      SendFileToDropbox(boxfile, \"bio/\"+dateStartday +\"/\"+ boxfile)\n",
        "      print('csv to dropbox closed..')\n",
        "\n",
        "      #send progress to Dropbox\n",
        "      loops = loops[1:len(loops)]\n",
        "      SendProgressToDropbox(loops,machine)"
      ]
    },
    {
      "cell_type": "code",
      "execution_count": null,
      "metadata": {
        "colab": {
          "background_save": true
        },
        "id": "0-5mgAMcxXfC"
      },
      "outputs": [],
      "source": [
        "from time import sleep\n",
        "from random import randint\n",
        "from IPython.display import clear_output\n",
        "\n",
        "wd = webdriver.Chrome(options=options)\n",
        "loops,loopsDropbox = DynamicLoopsParseBioCSV(machine)\n",
        "ExecuteLoopsBio(loops)"
      ]
    },
    {
      "cell_type": "code",
      "execution_count": null,
      "metadata": {
        "colab": {
          "background_save": true
        },
        "id": "7VZJ04anP1Ld"
      },
      "outputs": [],
      "source": [
        ""
      ]
    }
  ],
  "metadata": {
    "colab": {
      "collapsed_sections": [],
      "name": "JobsBioParse2.ipynb",
      "provenance": [],
      "include_colab_link": true
    },
    "kernelspec": {
      "display_name": "Python 3",
      "language": "python",
      "name": "python3"
    },
    "language_info": {
      "codemirror_mode": {
        "name": "ipython",
        "version": 3
      },
      "file_extension": ".py",
      "mimetype": "text/x-python",
      "name": "python",
      "nbconvert_exporter": "python",
      "pygments_lexer": "ipython3",
      "version": "3.8.5"
    }
  },
  "nbformat": 4,
  "nbformat_minor": 0
}