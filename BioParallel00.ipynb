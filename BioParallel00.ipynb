{
  "nbformat": 4,
  "nbformat_minor": 0,
  "metadata": {
    "colab": {
      "name": "BioParallel00.ipynb",
      "provenance": [],
      "collapsed_sections": [],
      "authorship_tag": "ABX9TyNgsbtkJDD1tU7fSUJ5fsDn",
      "include_colab_link": true
    },
    "kernelspec": {
      "name": "python3",
      "display_name": "Python 3"
    },
    "language_info": {
      "name": "python"
    }
  },
  "cells": [
    {
      "cell_type": "markdown",
      "metadata": {
        "id": "view-in-github",
        "colab_type": "text"
      },
      "source": [
        "<a href=\"https://colab.research.google.com/github/hahachang/colab/blob/main/BioParallel00.ipynb\" target=\"_parent\"><img src=\"https://colab.research.google.com/assets/colab-badge.svg\" alt=\"Open In Colab\"/></a>"
      ]
    },
    {
      "cell_type": "code",
      "metadata": {
        "id": "i-aeAMLCsUdQ"
      },
      "source": [
        "global machine\n",
        "machine = 0\n",
        "# \"\" mean no parallel\n",
        "# 0  mean machine 00\n",
        "# 1  mean machine 01"
      ],
      "execution_count": 1,
      "outputs": []
    },
    {
      "cell_type": "code",
      "metadata": {
        "colab": {
          "base_uri": "https://localhost:8080/"
        },
        "id": "_xJh-GkUo6mY",
        "outputId": "fe8ed230-e4a5-44a7-b299-6cb16d25f6ab"
      },
      "source": [
        "!git clone https://github.com/hahachang/colab.git\n",
        "#!wget https://github.com/hahachang/colab/archive/refs/heads/main.zip\n",
        "#!unzip main.zip"
      ],
      "execution_count": 2,
      "outputs": [
        {
          "output_type": "stream",
          "text": [
            "Cloning into 'colab'...\n",
            "remote: Enumerating objects: 43, done.\u001b[K\n",
            "remote: Counting objects: 100% (43/43), done.\u001b[K\n",
            "remote: Compressing objects: 100% (41/41), done.\u001b[K\n",
            "remote: Total 43 (delta 21), reused 0 (delta 0), pack-reused 0\u001b[K\n",
            "Unpacking objects: 100% (43/43), done.\n"
          ],
          "name": "stdout"
        }
      ]
    },
    {
      "cell_type": "code",
      "metadata": {
        "colab": {
          "base_uri": "https://localhost:8080/"
        },
        "id": "65hKB_vpuJ3A",
        "outputId": "fbc9390e-bae8-4773-ac4e-7ec4df6a54f9"
      },
      "source": [
        "cd colab"
      ],
      "execution_count": 3,
      "outputs": [
        {
          "output_type": "stream",
          "text": [
            "/content/colab\n"
          ],
          "name": "stdout"
        }
      ]
    },
    {
      "cell_type": "code",
      "metadata": {
        "colab": {
          "base_uri": "https://localhost:8080/"
        },
        "id": "dpOOOhrXuO87",
        "outputId": "252a4a7f-5ce4-47cb-cf0d-c3350ff392b7"
      },
      "source": [
        "ls"
      ],
      "execution_count": 4,
      "outputs": [
        {
          "output_type": "stream",
          "text": [
            "BioAssignMission.ipynb  ColabMisc.ipynb     price.ipynb\n",
            "BioParallel00.ipynb     HaHaLib.ipynb       README.md\n",
            "BIO_Relay.ipynb         JobsBioParse.ipynb  test.ipynb\n"
          ],
          "name": "stdout"
        }
      ]
    },
    {
      "cell_type": "code",
      "metadata": {
        "colab": {
          "base_uri": "https://localhost:8080/",
          "height": 426
        },
        "id": "gxtQm7aEnjC0",
        "outputId": "f61cd4fa-abfb-40d4-d1bf-9e3bfc5dbef0"
      },
      "source": [
        "%run JobsBioParse.ipynb"
      ],
      "execution_count": null,
      "outputs": [
        {
          "output_type": "stream",
          "text": [
            "renameCSV closed..\n",
            "csv to dropbox closed..\n",
            "Send Progress0 to Dropbox ..\n",
            "====  2002 parsing ..   ====\n",
            "chromedriver is lunching..\n",
            "chromedriver is ready..\n",
            "get web page....Start\n",
            "get web page....Done\n",
            "png saved\n",
            "72 AQE\n",
            "\f\n",
            "72 AQE\n",
            "\f\n",
            "r4=72AQE\n",
            "r5=72AQE\n"
          ],
          "name": "stdout"
        },
        {
          "output_type": "display_data",
          "data": {
            "image/png": "[encoded data removed]",
            "text/plain": [
              "<PIL.Image.Image image mode=L size=200x60 at 0x7F22BE791E50>"
            ]
          },
          "metadata": {
            "tags": []
          }
        },
        {
          "output_type": "display_data",
          "data": {
            "image/png": "[encoded data removed]",
            "text/plain": [
              "<PIL.Image.Image image mode=L size=200x60 at 0x7F22BE7E5DD0>"
            ]
          },
          "metadata": {
            "tags": []
          }
        },
        {
          "output_type": "stream",
          "text": [
            "captcha5 identified!!\n",
            "file downloading...\n"
          ],
          "name": "stdout"
        }
      ]
    },
    {
      "cell_type": "code",
      "metadata": {
        "id": "Mk2n8uKmvyZU"
      },
      "source": [
        "len(loops)"
      ],
      "execution_count": null,
      "outputs": []
    }
  ]
}