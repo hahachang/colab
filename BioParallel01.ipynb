{
  "nbformat": 4,
  "nbformat_minor": 0,
  "metadata": {
    "colab": {
      "name": "BioParallel01.ipynb",
      "provenance": [],
      "collapsed_sections": [],
      "include_colab_link": true
    },
    "kernelspec": {
      "name": "python3",
      "display_name": "Python 3"
    },
    "language_info": {
      "name": "python"
    }
  },
  "cells": [
    {
      "cell_type": "markdown",
      "metadata": {
        "id": "view-in-github",
        "colab_type": "text"
      },
      "source": [
        "<a href=\"https://colab.research.google.com/github/hahachang/colab/blob/main/BioParallel01.ipynb\" target=\"_parent\"><img src=\"https://colab.research.google.com/assets/colab-badge.svg\" alt=\"Open In Colab\"/></a>"
      ]
    },
    {
      "cell_type": "code",
      "metadata": {
        "id": "i-aeAMLCsUdQ"
      },
      "source": [
        "global machine\n",
        "machine = 1\n",
        "# \"\" mean no parallel\n",
        "# 0  mean machine 00\n",
        "# 1  mean machine 01"
      ],
      "execution_count": null,
      "outputs": []
    },
    {
      "cell_type": "code",
      "metadata": {
        "colab": {
          "base_uri": "https://localhost:8080/"
        },
        "id": "_xJh-GkUo6mY",
        "outputId": "0e3a6195-a331-4655-936d-c5ee5ed33ae8"
      },
      "source": [
        "!git clone https://github.com/hahachang/colab.git\n",
        "#!wget https://github.com/hahachang/colab/archive/refs/heads/main.zip\n",
        "#!unzip main.zip"
      ],
      "execution_count": null,
      "outputs": [
        {
          "output_type": "stream",
          "text": [
            "Cloning into 'colab'...\n",
            "remote: Enumerating objects: 46, done.\u001b[K\n",
            "remote: Counting objects: 100% (46/46), done.\u001b[K\n",
            "remote: Compressing objects: 100% (44/44), done.\u001b[K\n",
            "remote: Total 46 (delta 22), reused 0 (delta 0), pack-reused 0\u001b[K\n",
            "Unpacking objects: 100% (46/46), done.\n"
          ],
          "name": "stdout"
        }
      ]
    },
    {
      "cell_type": "code",
      "metadata": {
        "colab": {
          "base_uri": "https://localhost:8080/"
        },
        "id": "65hKB_vpuJ3A",
        "outputId": "0a9dfd23-bc78-4ca2-a394-3e80e030f1b7"
      },
      "source": [
        "cd colab"
      ],
      "execution_count": null,
      "outputs": [
        {
          "output_type": "stream",
          "text": [
            "/content/colab\n"
          ],
          "name": "stdout"
        }
      ]
    },
    {
      "cell_type": "code",
      "metadata": {
        "colab": {
          "base_uri": "https://localhost:8080/"
        },
        "id": "dpOOOhrXuO87",
        "outputId": "158b42a7-6343-4b2a-9457-4ed4f957719f"
      },
      "source": [
        "ls"
      ],
      "execution_count": null,
      "outputs": [
        {
          "output_type": "stream",
          "text": [
            "BioAssignMission.ipynb  ColabMisc.ipynb     price.ipynb\n",
            "BioParallel00.ipynb     HaHaLib.ipynb       README.md\n",
            "BIO_Relay.ipynb         JobsBioParse.ipynb  test.ipynb\n"
          ],
          "name": "stdout"
        }
      ]
    },
    {
      "cell_type": "code",
      "metadata": {
        "colab": {
          "base_uri": "https://localhost:8080/",
          "height": 68
        },
        "id": "gxtQm7aEnjC0",
        "outputId": "061798f1-31b5-443f-8a8e-0da0499bc611"
      },
      "source": [
        "%run JobsBioParse.ipynb"
      ],
      "execution_count": null,
      "outputs": [
        {
          "output_type": "stream",
          "text": [
            "renameCSV closed..\n",
            "csv to dropbox closed..\n",
            "Send Progress1 to Dropbox ..\n"
          ],
          "name": "stdout"
        }
      ]
    },
    {
      "cell_type": "code",
      "metadata": {
        "id": "Mk2n8uKmvyZU",
        "colab": {
          "base_uri": "https://localhost:8080/"
        },
        "outputId": "0dba5883-b5a2-42eb-cf2a-68ac03e6ec6a"
      },
      "source": [
        "len(loops)"
      ],
      "execution_count": null,
      "outputs": [
        {
          "output_type": "execute_result",
          "data": {
            "text/plain": [
              "280"
            ]
          },
          "metadata": {
            "tags": []
          },
          "execution_count": 6
        }
      ]
    }
  ]
}