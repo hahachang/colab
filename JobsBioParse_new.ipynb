{
  "cells": [
    {
      "cell_type": "markdown",
      "metadata": {
        "id": "view-in-github",
        "colab_type": "text"
      },
      "source": [
        "<a href=\"https://colab.research.google.com/github/hahachang/colab/blob/main/JobsBioParse_new.ipynb\" target=\"_parent\"><img src=\"https://colab.research.google.com/assets/colab-badge.svg\" alt=\"Open In Colab\"/></a>"
      ]
    },
    {
      "cell_type": "markdown",
      "metadata": {
        "id": "VIfGeRwAakxk"
      },
      "source": [
        "# 環境設定"
      ]
    },
    {
      "cell_type": "code",
      "execution_count": null,
      "metadata": {
        "colab": {
          "base_uri": "https://localhost:8080/"
        },
        "id": "KilzP2OvLxi6",
        "outputId": "b58b8e07-9d9b-495a-ff82-ba19fe3b99dc"
      },
      "outputs": [
        {
          "output_type": "stream",
          "name": "stdout",
          "text": [
            "Looking in indexes: https://pypi.org/simple, https://us-python.pkg.dev/colab-wheels/public/simple/\n",
            "Requirement already satisfied: selenium in /usr/local/lib/python3.7/dist-packages (4.3.0)\n",
            "Requirement already satisfied: trio~=0.17 in /usr/local/lib/python3.7/dist-packages (from selenium) (0.21.0)\n",
            "Requirement already satisfied: trio-websocket~=0.9 in /usr/local/lib/python3.7/dist-packages (from selenium) (0.9.2)\n",
            "Collecting urllib3[secure,socks]~=1.26\n",
            "  Using cached urllib3-1.26.9-py2.py3-none-any.whl (138 kB)\n",
            "Requirement already satisfied: idna in /usr/local/lib/python3.7/dist-packages (from trio~=0.17->selenium) (2.10)\n",
            "Requirement already satisfied: sortedcontainers in /usr/local/lib/python3.7/dist-packages (from trio~=0.17->selenium) (2.4.0)\n",
            "Requirement already satisfied: async-generator>=1.9 in /usr/local/lib/python3.7/dist-packages (from trio~=0.17->selenium) (1.10)\n",
            "Requirement already satisfied: attrs>=19.2.0 in /usr/local/lib/python3.7/dist-packages (from trio~=0.17->selenium) (21.4.0)\n",
            "Requirement already satisfied: outcome in /usr/local/lib/python3.7/dist-packages (from trio~=0.17->selenium) (1.2.0)\n",
            "Requirement already satisfied: sniffio in /usr/local/lib/python3.7/dist-packages (from trio~=0.17->selenium) (1.2.0)\n",
            "Requirement already satisfied: wsproto>=0.14 in /usr/local/lib/python3.7/dist-packages (from trio-websocket~=0.9->selenium) (1.1.0)\n",
            "Requirement already satisfied: certifi in /usr/local/lib/python3.7/dist-packages (from urllib3[secure,socks]~=1.26->selenium) (2022.6.15)\n",
            "Requirement already satisfied: cryptography>=1.3.4 in /usr/local/lib/python3.7/dist-packages (from urllib3[secure,socks]~=1.26->selenium) (37.0.2)\n",
            "Requirement already satisfied: pyOpenSSL>=0.14 in /usr/local/lib/python3.7/dist-packages (from urllib3[secure,socks]~=1.26->selenium) (22.0.0)\n",
            "Requirement already satisfied: PySocks!=1.5.7,<2.0,>=1.5.6 in /usr/local/lib/python3.7/dist-packages (from urllib3[secure,socks]~=1.26->selenium) (1.7.1)\n",
            "Requirement already satisfied: cffi>=1.12 in /usr/local/lib/python3.7/dist-packages (from cryptography>=1.3.4->urllib3[secure,socks]~=1.26->selenium) (1.15.0)\n",
            "Requirement already satisfied: pycparser in /usr/local/lib/python3.7/dist-packages (from cffi>=1.12->cryptography>=1.3.4->urllib3[secure,socks]~=1.26->selenium) (2.21)\n",
            "Requirement already satisfied: h11<1,>=0.9.0 in /usr/local/lib/python3.7/dist-packages (from wsproto>=0.14->trio-websocket~=0.9->selenium) (0.13.0)\n",
            "Requirement already satisfied: typing-extensions in /usr/local/lib/python3.7/dist-packages (from h11<1,>=0.9.0->wsproto>=0.14->trio-websocket~=0.9->selenium) (4.1.1)\n",
            "Installing collected packages: urllib3\n",
            "  Attempting uninstall: urllib3\n",
            "    Found existing installation: urllib3 1.25.11\n",
            "    Uninstalling urllib3-1.25.11:\n",
            "      Successfully uninstalled urllib3-1.25.11\n",
            "\u001b[31mERROR: pip's dependency resolver does not currently take into account all the packages that are installed. This behaviour is the source of the following dependency conflicts.\n",
            "requests 2.23.0 requires urllib3!=1.25.0,!=1.25.1,<1.26,>=1.21.1, but you have urllib3 1.26.9 which is incompatible.\n",
            "datascience 0.10.6 requires folium==0.2.1, but you have folium 0.8.3 which is incompatible.\u001b[0m\n",
            "Successfully installed urllib3-1.26.9\n",
            "Hit:1 https://cloud.r-project.org/bin/linux/ubuntu bionic-cran40/ InRelease\n",
            "Hit:2 https://developer.download.nvidia.com/compute/cuda/repos/ubuntu1804/x86_64  InRelease\n",
            "Hit:3 http://security.ubuntu.com/ubuntu bionic-security InRelease\n",
            "Ign:4 https://developer.download.nvidia.com/compute/machine-learning/repos/ubuntu1804/x86_64  InRelease\n",
            "Hit:5 https://developer.download.nvidia.com/compute/machine-learning/repos/ubuntu1804/x86_64  Release\n",
            "Hit:6 http://ppa.launchpad.net/c2d4u.team/c2d4u4.0+/ubuntu bionic InRelease\n",
            "Hit:7 http://archive.ubuntu.com/ubuntu bionic InRelease\n",
            "Hit:8 http://ppa.launchpad.net/cran/libgit2/ubuntu bionic InRelease\n",
            "Hit:9 http://archive.ubuntu.com/ubuntu bionic-updates InRelease\n",
            "Hit:10 http://archive.ubuntu.com/ubuntu bionic-backports InRelease\n",
            "Hit:11 http://ppa.launchpad.net/deadsnakes/ppa/ubuntu bionic InRelease\n",
            "Hit:12 http://ppa.launchpad.net/graphics-drivers/ppa/ubuntu bionic InRelease\n",
            "Reading package lists... Done\n",
            "Reading package lists... Done\n",
            "Building dependency tree       \n",
            "Reading state information... Done\n",
            "chromium-chromedriver is already the newest version (101.0.4951.64-0ubuntu0.18.04.1).\n",
            "The following package was automatically installed and is no longer required:\n",
            "  libnvidia-common-460\n",
            "Use 'apt autoremove' to remove it.\n",
            "0 upgraded, 0 newly installed, 0 to remove and 61 not upgraded.\n",
            "cp: '/usr/lib/chromium-browser/chromedriver' and '/usr/bin/chromedriver' are the same file\n",
            "Reading package lists... Done\n",
            "Building dependency tree       \n",
            "Reading state information... Done\n",
            "tesseract-ocr is already the newest version (4.00~git2288-10f4998a-2).\n",
            "The following package was automatically installed and is no longer required:\n",
            "  libnvidia-common-460\n",
            "Use 'sudo apt autoremove' to remove it.\n",
            "0 upgraded, 0 newly installed, 0 to remove and 61 not upgraded.\n",
            "Looking in indexes: https://pypi.org/simple, https://us-python.pkg.dev/colab-wheels/public/simple/\n",
            "Requirement already satisfied: pytesseract in /usr/local/lib/python3.7/dist-packages (0.3.9)\n",
            "Requirement already satisfied: Pillow>=8.0.0 in /usr/local/lib/python3.7/dist-packages (from pytesseract) (9.1.1)\n",
            "Requirement already satisfied: packaging>=21.3 in /usr/local/lib/python3.7/dist-packages (from pytesseract) (21.3)\n",
            "Requirement already satisfied: pyparsing!=3.0.5,>=2.0.2 in /usr/local/lib/python3.7/dist-packages (from packaging>=21.3->pytesseract) (3.0.9)\n"
          ]
        }
      ],
      "source": [
        "#環境設定\n",
        "!pip install selenium==4.0.0.b3\n",
        "!apt-get update # to update ubuntu to correctly run apt install\n",
        "!apt install chromium-chromedriver\n",
        "!cp /usr/lib/chromium-browser/chromedriver /usr/bin\n",
        "\n",
        "#wget https://chromedriver.storage.googleapis.com/96.0.4664.45/chromedriver_linux64.zip\n",
        "#!unzip /content/colab/chromedriver_linux64.zip\n",
        "#!cp /content/colab/chromedriver /usr/lib\n",
        "#!cp /content/colab/chromedriver /usr/bin\n",
        "\n",
        "#sys.path.insert(0,'/usr/bin/chromedriver')\n",
        "!sudo apt install tesseract-ocr\n",
        "!pip install pytesseract"
      ]
    },
    {
      "cell_type": "markdown",
      "metadata": {
        "id": "HKsMQGWRawkA"
      },
      "source": [
        "# 共通程式"
      ]
    },
    {
      "cell_type": "code",
      "execution_count": null,
      "metadata": {
        "id": "El7P4xda0opS"
      },
      "outputs": [],
      "source": [
        "# Line Notify\n",
        "def Line(msg,path_pic=None):\n",
        "    import requests\n",
        "    global tokenDropbox\n",
        "    tokenLine = 'apfSt2nGRwzBuCuFWtH9qRCX8BGATHEyCiBAIQzAwup'\n",
        "\n",
        "    headers = {\n",
        "        \"Authorization\": \"Bearer \" + tokenLine\n",
        "    }\n",
        "    payload = {'message': msg}\n",
        "    if path_pic!=None:\n",
        "      files = {'imageFile':open(path_pic,'rb')}\n",
        "      r = requests.post(\"https://notify-api.line.me/api/notify\", headers = headers, params = payload,files=files)\n",
        "    else:\n",
        "      r = requests.post(\"https://notify-api.line.me/api/notify\", headers = headers, params = payload)\n",
        "    return r.status_code\n",
        "\n",
        "def SendFileToDropbox(fileLocal,fileDropbox):\n",
        "    ##### upload file to dropbox #####\n",
        "\n",
        "    try:\n",
        "        import dropbox\n",
        "        #print(\"module is installed\")\n",
        "    except ModuleNotFoundError:\n",
        "        print(\"module is not installed\")\n",
        "        # or\n",
        "        !pip install dropbox\n",
        "        import dropbox\n",
        "\n",
        "    from dropbox.files import WriteMode\n",
        "    from dropbox.exceptions import ApiError, AuthError\n",
        "    global tokenDropbox\n",
        "    tokenDropbox = \"9VjbJCirSqsAAAAAAAA1JuBzv7mujcQGbebgTGu2IjDup-N77QjVY8MEsg1ccizx\"\n",
        "    dbx = dropbox.Dropbox(tokenDropbox)\n",
        "    with open(fileLocal, 'rb') as f:\n",
        "      dbx.files_upload(f.read(), \"/\"+fileDropbox, mode=WriteMode('overwrite')) \n",
        "      f.close()\n",
        "\n",
        "\n",
        "def GetFileFromDropbox(fileDropbox,fileLocal):\n",
        "    ##### download file frome dropbox #####\n",
        "    try:\n",
        "        import dropbox\n",
        "        #print(\"module is installed\")\n",
        "    except ModuleNotFoundError:\n",
        "        print(\"module is not installed\")\n",
        "        # or\n",
        "        !pip install dropbox\n",
        "        import dropbox\n",
        "\n",
        "    from dropbox.files import WriteMode\n",
        "    from dropbox.exceptions import ApiError, AuthError\n",
        "    global tokenDropbox\n",
        "    tokenDropbox = \"9VjbJCirSqsAAAAAAAA1JuBzv7mujcQGbebgTGu2IjDup-N77QjVY8MEsg1ccizx\"\n",
        "    dbx = dropbox.Dropbox(tokenDropbox)\n",
        "    with open(fileLocal, \"wb\") as f:\n",
        "      metadata, res = dbx.files_download(\"/\"+fileDropbox)\n",
        "      f.write(res.content)"
      ]
    },
    {
      "cell_type": "code",
      "execution_count": null,
      "metadata": {
        "id": "7y5M_W7GpoW9"
      },
      "outputs": [],
      "source": [
        "#設定\n",
        "import sys\n",
        "import os\n",
        "import base64 \n",
        "import datetime\n",
        "import time\n",
        "import json\n",
        "import pandas as pd\n",
        "\n",
        "from datetime import datetime,timedelta\n",
        "from pathlib import Path \n",
        "from urllib.parse import urlparse\n",
        "from selenium import webdriver\n",
        "from selenium.common.exceptions import NoSuchElementException\n",
        "\n",
        "#global\n",
        "#global tokenDropbox,tokenLine\n",
        "#tokenDropbox = \"9VjbJCirSqsAAAAAAAA1JuBzv7mujcQGbebgTGu2IjDup-N77QjVY8MEsg1ccizx\"\n",
        "#tokenLine = 'apfSt2nGRwzBuCuFWtH9qRCX8BGATHEyCiBAIQzAwup'\n",
        "\n",
        "#設定Selenium\n",
        "options = webdriver.ChromeOptions()\n",
        "options.add_argument('--headless')\n",
        "options.add_argument('--no-sandbox')\n",
        "options.add_argument('--disable-dev-shm-usage')\n",
        "\n",
        "prjName = \"OCR_Img_twse_bsr\"\n",
        "\n",
        "headLess = True\n",
        "\n",
        "Path(prjName).mkdir(parents=True, exist_ok=True)\n",
        "\n",
        "# 如要使用Chrome瀏覽器，需使用相對應版本的ChromeDriver\n",
        "# Src: https://chromedriver.chromium.org/\n",
        "wdPath = '/usr/lib/chromium-browser/chromedriver'\n",
        "#wdPath = '/usr/lib/chromedriver'"
      ]
    },
    {
      "cell_type": "markdown",
      "metadata": {
        "id": "sYPVWX_vbEz5"
      },
      "source": [
        "# 函數:Stock"
      ]
    },
    {
      "cell_type": "code",
      "execution_count": null,
      "metadata": {
        "colab": {
          "base_uri": "https://localhost:8080/"
        },
        "id": "6RfYQBiuTKvw",
        "outputId": "0e84206e-4005-4492-bed0-4eb915137f0d"
      },
      "outputs": [
        {
          "output_type": "stream",
          "name": "stdout",
          "text": [
            "======  20220629  ======\n"
          ]
        }
      ],
      "source": [
        "def StartdayParseStock():\n",
        "  from datetime import datetime, timedelta\n",
        "  if (datetime.now()+timedelta(hours=8)).strftime(\"%H%M%S\")<\"160000\":\n",
        "    date   = (datetime.now()+timedelta(hours=8)+timedelta(days=-1)).strftime(\"%Y%m%d\")  \n",
        "  else:\n",
        "    date   = (datetime.now()+timedelta(hours=8)).strftime(\"%Y%m%d\")\n",
        "  return date\n",
        "\n",
        "global dateStartday\n",
        "dateStartday =  StartdayParseStock()\n",
        "print(\"======  \" +  dateStartday  + \"  ======\"  )\n",
        "#dateStartday=\"20210514\""
      ]
    },
    {
      "cell_type": "code",
      "execution_count": null,
      "metadata": {
        "id": "jla9Yp8CTk7r"
      },
      "outputs": [],
      "source": [
        ""
      ]
    },
    {
      "cell_type": "code",
      "execution_count": null,
      "metadata": {
        "id": "jztK3Iam9SAL"
      },
      "outputs": [],
      "source": [
        ""
      ]
    },
    {
      "cell_type": "markdown",
      "metadata": {
        "id": "qdEZkr61bgXW"
      },
      "source": [
        "# 主程式:StockBio"
      ]
    },
    {
      "cell_type": "code",
      "execution_count": null,
      "metadata": {
        "id": "h4XomNj-AtGY"
      },
      "outputs": [],
      "source": [
        "def ParseBioCSV(stock):\n",
        "  print('chromedriver is lunching..')\n",
        "  wd = webdriver.Chrome(options=options)\n",
        "  #time.sleep(1)\n",
        "  print('chromedriver is ready..')\n",
        "\n",
        "  #抓取captcha\n",
        "  urlString = \"https://bsr.twse.com.tw/bshtm/bsMenu.aspx\"\n",
        "  parsed_uri = urlparse(urlString)\n",
        "  # from urlparse import urlparse  # Python 2\n",
        "  #result = '{uri.scheme}://{uri.netloc}/'.format(uri=parsed_uri)\n",
        "  sitePath = '{uri.hostname}'.format(uri=parsed_uri)\n",
        "\n",
        "  imgPath = prjName + \"\\\\\" + sitePath\n",
        "  Path(imgPath).mkdir(parents=True, exist_ok=True)\n",
        "\n",
        "  print('get web page....Start')\n",
        "  wd.get(urlString)\n",
        "  #time.sleep(1)\n",
        "  print('get web page....Done')\n",
        "\n",
        "  def get_captcha_img(): # return saved file's name\n",
        "      # 此網站的動態驗證碼是存放在 tag img\n",
        "      #target_img = wd.find_element_by_id(\"authPic\")\n",
        "      target_img = wd.find_element_by_css_selector(\"#Panel_bshtm img\")\n",
        "      \n",
        "      # get the canvas as a PNG base64 string\n",
        "      img_base64 = wd.execute_script(\"x=arguments[0];c=document.createElement('canvas');c.width=x.width,c.height=x.height;t=c.getContext('2d');t.drawImage(x, 0, 0);return c.toDataURL('image/png').substring(21);\", target_img)\n",
        "      \n",
        "      # decode\n",
        "      img_png = base64.b64decode(img_base64)\n",
        "      \n",
        "      # save to a file\n",
        "      dtNow = datetime.now()\n",
        "      \n",
        "      fileName = '{}\\\\{}{}{}_{}{}{}.png'\n",
        "      fileName = fileName.format(imgPath, dtNow.strftime(\"%Y\"), dtNow.strftime(\"%m\"), dtNow.strftime(\"%d\"), dtNow.strftime(\"%H\"), dtNow.strftime(\"%M\"), dtNow.strftime(\"%S\"))\n",
        "      with open(fileName, 'wb') as f:\n",
        "          f.write(img_png)\n",
        "      return fileName\n",
        "\n",
        "  fileName=get_captcha_img()\n",
        "\n",
        "  print('png saved')\n",
        "\n",
        "  #OCR\n",
        "  # 載入圖形相關函式\n",
        "\n",
        "  try:\n",
        "      from PIL import Image\n",
        "  except ImportError:\n",
        "      import Image\n",
        "  import PIL.ImageOps \n",
        "  import pytesseract\n",
        "\n",
        "  from IPython.display import display\n",
        "\n",
        "  def convert_img1(img, threshold): # 先灰階，轉補色，再黑白處理\n",
        "      img = img.convert(\"L\")  # 轉為灰階\n",
        "      img = PIL.ImageOps.invert(img)\n",
        "      pixels = img.load()\n",
        "      for x in range(img.width):\n",
        "          for y in range(img.height):\n",
        "              if pixels[x, y] > threshold:\n",
        "                  pixels[x, y] = 255\n",
        "              else:\n",
        "                  pixels[x, y] = 0\n",
        "      return img\n",
        "\n",
        "  # 8鄰域降燥辨識\n",
        "  def noise_remove_pil(img, ctrlG, ctrlK): # 8鄰域降噪, ctrlG:小餘折是非白, ctrlK:小於ctrlK個非白點就轉白\n",
        "      def calculate_noise_count(img_obj, w, h): # 計算鄰域非白色的個數\n",
        "          count = 0\n",
        "          width, height = img_obj.size\n",
        "          for _w_ in [w - 1, w, w + 1]:\n",
        "              for _h_ in [h - 1, h, h + 1]:\n",
        "                  if _w_ > width - 1:\n",
        "                      continue\n",
        "                  if _h_ > height - 1:\n",
        "                      continue\n",
        "                  if _w_ == w and _h_ == h:\n",
        "                      continue\n",
        "                  if img_obj.getpixel((_w_, _h_)) < ctrlG:  # 這裡因為是灰度影像，設定小於230為非白色\n",
        "                      count += 1\n",
        "          return count\n",
        "\n",
        "      img = img.convert(\"L\")\n",
        "      img = PIL.ImageOps.invert(img)\n",
        "      w, h = img.size\n",
        "      \n",
        "      for _w in range(w):\n",
        "          for _h in range(h):\n",
        "              if _w == 0 or _h == 0:\n",
        "                  img.putpixel((_w, _h), 255)\n",
        "                  continue\n",
        "              pixel = img.getpixel((_w, _h))\n",
        "              if pixel == 255:\n",
        "                  continue\n",
        "\n",
        "              # 計算鄰域非白色的個數\n",
        "              if calculate_noise_count(img, _w, _h) < ctrlK:\n",
        "                  img.putpixel((_w, _h), 255)\n",
        "      return img\n",
        "\n",
        "  captcha4 = Image.open(fileName)\n",
        "  captcha4 = noise_remove_pil(captcha4, 10, 4)\n",
        "\n",
        "  result4 = pytesseract.image_to_string(captcha4)\n",
        "  print(result4)\n",
        "  #display(captcha4)\n",
        "\n",
        "  # 二值化降噪辨識，又稱8鄰域降燥，灰階圖辨識與轉黑白後辨識有的時候會不同效益\n",
        "  def depointImg(img, ctrlV, ctrlK): # 二值化降噪辨識，大於ctrlV是為白點，超過ctrlK個白點轉白\n",
        "      img = img.convert(\"L\")\n",
        "      img = PIL.ImageOps.invert(img)\n",
        "      pixels = img.load()\n",
        "      w, h = img.size\n",
        "      for y in range(1, h - 1):\n",
        "          for x in range(1, w - 1):\n",
        "              count = 0\n",
        "              if pixels[x - 1, y - 1] > ctrlV:  # 左上\n",
        "                  count = count + 1\n",
        "              if pixels[x,     y - 1] > ctrlV:  # 上\n",
        "                  count = count + 1\n",
        "              if pixels[x + 1, y - 1] > ctrlV:  # 右上\n",
        "                  count = count + 1\n",
        "                  \n",
        "              if pixels[x - 1, y] > ctrlV:  # 左\n",
        "                  count = count + 1\n",
        "              if pixels[x + 1, y] > ctrlV:  # 右\n",
        "                  count = count + 1\n",
        "\n",
        "              if pixels[x - 1, y + 1] > ctrlV:  # 左下\n",
        "                  count = count + 1\n",
        "              if pixels[x,     y + 1] > ctrlV:  # 下\n",
        "                  count = count + 1\n",
        "              if pixels[x + 1, y + 1] > ctrlV:  # 右下\n",
        "                  count = count + 1\n",
        "                  \n",
        "              if count > ctrlK:\n",
        "                  pixels[x, y] = 255\n",
        "      return img\n",
        "\n",
        "\n",
        "  captcha5 = Image.open(fileName)\n",
        "  captcha5 = depointImg(captcha5, 10, 4)\n",
        "\n",
        "  result5 = pytesseract.image_to_string(captcha5)\n",
        "  print(result5)\n",
        "  #display(captcha5)\n",
        "\n",
        "  result4 = result4.replace(' ', '').strip()\n",
        "  result5 = result5.replace(' ', '').strip()\n",
        "  print('r4=' + result4)\n",
        "  print('r5=' + result5)\n",
        "  display(captcha4)\n",
        "  display(captcha5)\n",
        "  captchaCode=''\n",
        "\n",
        "  if len(result5)==5:\n",
        "      captchaCode=result5\n",
        "      print('captcha5 identified!!')\n",
        "  elif len(result4)==5:\n",
        "      captchaCode=result4\n",
        "      print('captcha4 identified!!')\n",
        "  else:\n",
        "      print('captcha identify failled!')\n",
        "      parseSuccess = \"No\"\n",
        "\n",
        "  if len(captchaCode)==5:\n",
        "      txtStkCode = wd.find_element_by_id(\"TextBox_Stkno\")\n",
        "      txtStkCode.send_keys(stock)\n",
        "    \n",
        "      txtCaptcha = wd.find_element_by_name(\"CaptchaControl1\")\n",
        "      txtCaptcha.send_keys(captchaCode)\n",
        "      btnOK = wd.find_element_by_id(\"btnOK\")\n",
        "      btnOK.click()\n",
        "      try:\n",
        "          dd = wd.find_element_by_id(\"HyperLink_DownloadCSV\") \n",
        "          dd.click()\n",
        "          print('file downloading...')\n",
        "          sleep(5)\n",
        "          while not os.path.exists(stock + \".csv\"):\n",
        "            sleep(2)\n",
        "            print(\"file downloading..wait\")    \n",
        "          parseSuccess = \"Yes\"\n",
        "      except NoSuchElementException:\n",
        "          print('captcha code error!')\n",
        "          parseSuccess = \"No\"\n",
        "\n",
        "  print('chromedriver closing..')\n",
        "  wd.quit()\n",
        "  print('chromedriver closed..')\n",
        "  \n",
        "  return parseSuccess  \n"
      ]
    },
    {
      "cell_type": "code",
      "execution_count": null,
      "metadata": {
        "id": "aHtjp4xZPqM_"
      },
      "outputs": [],
      "source": [
        "def GetProgressFromDropbox(machine):\n",
        "  import pandas as pd\n",
        "  fileProgress = \"bio\\\\\"+str(dateStartday)+\"\\\\\"+\"bio_progress\"+str(machine)+\".csv\" \n",
        "  GetFileFromDropbox(\"bio/\"+str(dateStartday)+\"/\"+\"bio_progress\"+str(machine)+\".csv\",\"\\\\\"+fileProgress )\n",
        "  loopsDropbox = pd.read_csv(\"\\\\\"+fileProgress, names=[\"col\"],header=None, dtype = str).col.tolist()\n",
        "  return loopsDropbox\n",
        "\n",
        "def SendProgressToDropbox(nowProgress,machine):\n",
        "  import pandas as pd\n",
        "  fileProgress = \"bio\\\\\"+str(dateStartday)+\"\\\\\"+\"bio_progress\" + str(machine) + \".csv\" \n",
        "  pd.DataFrame(nowProgress).to_csv(\"\\\\\"+fileProgress,index= False,header=False)\n",
        "  SendFileToDropbox(\"\\\\\"+fileProgress,\"bio/\"+str(dateStartday)+\"/\"+\"bio_progress\"+str(machine)+\".csv\")\n",
        "  print(\"Send Progress\"+ str(machine)+ \" to Dropbox ..\")"
      ]
    },
    {
      "cell_type": "code",
      "execution_count": null,
      "metadata": {
        "id": "1CHSLbsEYNcO"
      },
      "outputs": [],
      "source": [
        "#print(\"====  \"+ \"Remain:\" +str(len(GetProgressFromDropbox())) + \"jobs\" + \"  =====\")"
      ]
    },
    {
      "cell_type": "code",
      "execution_count": null,
      "metadata": {
        "id": "vdRKIGOKa4D4"
      },
      "outputs": [],
      "source": [
        "def DynamicLoopsParseBioCSV(machine):\n",
        "    from pathlib import Path \n",
        "\n",
        "    bioPath = \"bio\" + \"\\\\\" + str(dateStartday)\n",
        "    Path(bioPath).mkdir(parents=True, exist_ok=True)\n",
        "\n",
        "    try:\n",
        "      loopsDropbox = GetProgressFromDropbox(machine)\n",
        "      print(\"get bio progress from dropbox ..\")\n",
        "    except:\n",
        "      print('error:get bio progress from dropbox ..')\n",
        "      loopsDropbox = []\n",
        "\n",
        "    if len(loopsDropbox)==0:\n",
        "      print(\"new progress ..\")\n",
        "      if \"jf\" not in locals() and \"jf\" not in globals():\n",
        "        jf  = ParseTWSE_OHLC(dateStartday)\n",
        "      loops = LoopsTWSE_OHLC(jf)\n",
        "    else:\n",
        "      print(\"continue progress ..\")\n",
        "      loops = loopsDropbox\n",
        "    \n",
        "    return loops,loopsDropbox"
      ]
    },
    {
      "cell_type": "code",
      "execution_count": null,
      "metadata": {
        "id": "nvfn39_fviol"
      },
      "outputs": [],
      "source": [
        "def ExecuteLoopsBio(loops):\n",
        "  Line( str(machine)+\": start\")\n",
        "  for stock in loops:\n",
        "    #line to notify\n",
        "    #Line( str(machine)+\":\"+str(stock)+\",Remain:\"+str(len(loops)) )\n",
        "    \n",
        "    #use selenium to download file\n",
        "    parseSuccess=\"No\"\n",
        "    while parseSuccess==\"No\":\n",
        "      print(\"====  \"+str(stock)+\" parsing .. \"+\"  ====\")\n",
        "      try:      \n",
        "        parseSuccess = ParseBioCSV(stock)\n",
        "        sleep(randint(5,7))\n",
        "        clear_output(wait=True)\n",
        "      except:\n",
        "        sleep(randint(60,90))\n",
        "      \n",
        "    #rename file and send to dropbox \n",
        "    if parseSuccess == \"Yes\":\n",
        "      #Rename file\n",
        "      timestamp = (datetime.now()+timedelta(hours=8)).strftime(\"%Y%m%d_%H%M%S\")\n",
        "      boxfile   = str(stock)+\"_\"+timestamp+\".csv\"\n",
        "      os.rename(str(stock)+\".csv\",boxfile)\n",
        "      print('renameCSV closed..')\n",
        "\n",
        "      #send bio to Dropbox\n",
        "      SendFileToDropbox(boxfile, \"bio/\"+dateStartday +\"/\"+ boxfile)\n",
        "      print('csv to dropbox closed..')\n",
        "\n",
        "      #send progress to Dropbox\n",
        "      loops = loops[1:len(loops)]\n",
        "      SendProgressToDropbox(loops,machine)"
      ]
    },
    {
      "cell_type": "code",
      "execution_count": null,
      "metadata": {
        "id": "7VZJ04anP1Ld"
      },
      "outputs": [],
      "source": [
        "machine = 1"
      ]
    },
    {
      "cell_type": "code",
      "execution_count": null,
      "metadata": {
        "colab": {
          "base_uri": "https://localhost:8080/",
          "height": 590
        },
        "id": "0-5mgAMcxXfC",
        "outputId": "9dd1c243-7f67-4066-ccc2-cb4434d10bc2"
      },
      "outputs": [
        {
          "output_type": "stream",
          "name": "stderr",
          "text": [
            "/usr/local/lib/python3.7/dist-packages/requests/__init__.py:91: RequestsDependencyWarning: urllib3 (1.26.9) or chardet (3.0.4) doesn't match a supported version!\n",
            "  RequestsDependencyWarning)\n"
          ]
        },
        {
          "output_type": "stream",
          "name": "stdout",
          "text": [
            "get bio progress from dropbox ..\n",
            "continue progress ..\n",
            "====  2385 parsing ..   ====\n",
            "chromedriver is lunching..\n",
            "chromedriver is ready..\n",
            "get web page....Start\n",
            "get web page....Done\n"
          ]
        },
        {
          "output_type": "error",
          "ename": "KeyboardInterrupt",
          "evalue": "ignored",
          "traceback": [
            "\u001b[0;31m---------------------------------------------------------------------------\u001b[0m",
            "\u001b[0;31mAttributeError\u001b[0m                            Traceback (most recent call last)",
            "\u001b[0;32m<ipython-input-11-819c7f5e9976>\u001b[0m in \u001b[0;36mExecuteLoopsBio\u001b[0;34m(loops)\u001b[0m\n\u001b[1;32m     11\u001b[0m       \u001b[0;32mtry\u001b[0m\u001b[0;34m:\u001b[0m\u001b[0;34m\u001b[0m\u001b[0;34m\u001b[0m\u001b[0m\n\u001b[0;32m---> 12\u001b[0;31m         \u001b[0mparseSuccess\u001b[0m \u001b[0;34m=\u001b[0m \u001b[0mParseBioCSV\u001b[0m\u001b[0;34m(\u001b[0m\u001b[0mstock\u001b[0m\u001b[0;34m)\u001b[0m\u001b[0;34m\u001b[0m\u001b[0;34m\u001b[0m\u001b[0m\n\u001b[0m\u001b[1;32m     13\u001b[0m         \u001b[0msleep\u001b[0m\u001b[0;34m(\u001b[0m\u001b[0mrandint\u001b[0m\u001b[0;34m(\u001b[0m\u001b[0;36m5\u001b[0m\u001b[0;34m,\u001b[0m\u001b[0;36m7\u001b[0m\u001b[0;34m)\u001b[0m\u001b[0;34m)\u001b[0m\u001b[0;34m\u001b[0m\u001b[0;34m\u001b[0m\u001b[0m\n",
            "\u001b[0;32m<ipython-input-7-29f4e058948c>\u001b[0m in \u001b[0;36mParseBioCSV\u001b[0;34m(stock)\u001b[0m\n\u001b[1;32m     41\u001b[0m \u001b[0;34m\u001b[0m\u001b[0m\n\u001b[0;32m---> 42\u001b[0;31m   \u001b[0mfileName\u001b[0m\u001b[0;34m=\u001b[0m\u001b[0mget_captcha_img\u001b[0m\u001b[0;34m(\u001b[0m\u001b[0;34m)\u001b[0m\u001b[0;34m\u001b[0m\u001b[0;34m\u001b[0m\u001b[0m\n\u001b[0m\u001b[1;32m     43\u001b[0m \u001b[0;34m\u001b[0m\u001b[0m\n",
            "\u001b[0;32m<ipython-input-7-29f4e058948c>\u001b[0m in \u001b[0;36mget_captcha_img\u001b[0;34m()\u001b[0m\n\u001b[1;32m     24\u001b[0m       \u001b[0;31m#target_img = wd.find_element_by_id(\"authPic\")\u001b[0m\u001b[0;34m\u001b[0m\u001b[0;34m\u001b[0m\u001b[0;34m\u001b[0m\u001b[0m\n\u001b[0;32m---> 25\u001b[0;31m       \u001b[0mtarget_img\u001b[0m \u001b[0;34m=\u001b[0m \u001b[0mwd\u001b[0m\u001b[0;34m.\u001b[0m\u001b[0mfind_element_by_css_selector\u001b[0m\u001b[0;34m(\u001b[0m\u001b[0;34m\"#Panel_bshtm img\"\u001b[0m\u001b[0;34m)\u001b[0m\u001b[0;34m\u001b[0m\u001b[0;34m\u001b[0m\u001b[0m\n\u001b[0m\u001b[1;32m     26\u001b[0m \u001b[0;34m\u001b[0m\u001b[0m\n",
            "\u001b[0;31mAttributeError\u001b[0m: 'WebDriver' object has no attribute 'find_element_by_css_selector'",
            "\nDuring handling of the above exception, another exception occurred:\n",
            "\u001b[0;31mKeyboardInterrupt\u001b[0m                         Traceback (most recent call last)",
            "\u001b[0;32m<ipython-input-13-bbe3b34b59d7>\u001b[0m in \u001b[0;36m<module>\u001b[0;34m()\u001b[0m\n\u001b[1;32m      5\u001b[0m \u001b[0mwd\u001b[0m \u001b[0;34m=\u001b[0m \u001b[0mwebdriver\u001b[0m\u001b[0;34m.\u001b[0m\u001b[0mChrome\u001b[0m\u001b[0;34m(\u001b[0m\u001b[0moptions\u001b[0m\u001b[0;34m=\u001b[0m\u001b[0moptions\u001b[0m\u001b[0;34m)\u001b[0m\u001b[0;34m\u001b[0m\u001b[0;34m\u001b[0m\u001b[0m\n\u001b[1;32m      6\u001b[0m \u001b[0mloops\u001b[0m\u001b[0;34m,\u001b[0m\u001b[0mloopsDropbox\u001b[0m \u001b[0;34m=\u001b[0m \u001b[0mDynamicLoopsParseBioCSV\u001b[0m\u001b[0;34m(\u001b[0m\u001b[0mmachine\u001b[0m\u001b[0;34m)\u001b[0m\u001b[0;34m\u001b[0m\u001b[0;34m\u001b[0m\u001b[0m\n\u001b[0;32m----> 7\u001b[0;31m \u001b[0mExecuteLoopsBio\u001b[0m\u001b[0;34m(\u001b[0m\u001b[0mloops\u001b[0m\u001b[0;34m)\u001b[0m\u001b[0;34m\u001b[0m\u001b[0;34m\u001b[0m\u001b[0m\n\u001b[0m",
            "\u001b[0;32m<ipython-input-11-819c7f5e9976>\u001b[0m in \u001b[0;36mExecuteLoopsBio\u001b[0;34m(loops)\u001b[0m\n\u001b[1;32m     14\u001b[0m         \u001b[0mclear_output\u001b[0m\u001b[0;34m(\u001b[0m\u001b[0mwait\u001b[0m\u001b[0;34m=\u001b[0m\u001b[0;32mTrue\u001b[0m\u001b[0;34m)\u001b[0m\u001b[0;34m\u001b[0m\u001b[0;34m\u001b[0m\u001b[0m\n\u001b[1;32m     15\u001b[0m       \u001b[0;32mexcept\u001b[0m\u001b[0;34m:\u001b[0m\u001b[0;34m\u001b[0m\u001b[0;34m\u001b[0m\u001b[0m\n\u001b[0;32m---> 16\u001b[0;31m         \u001b[0msleep\u001b[0m\u001b[0;34m(\u001b[0m\u001b[0mrandint\u001b[0m\u001b[0;34m(\u001b[0m\u001b[0;36m60\u001b[0m\u001b[0;34m,\u001b[0m\u001b[0;36m90\u001b[0m\u001b[0;34m)\u001b[0m\u001b[0;34m)\u001b[0m\u001b[0;34m\u001b[0m\u001b[0;34m\u001b[0m\u001b[0m\n\u001b[0m\u001b[1;32m     17\u001b[0m \u001b[0;34m\u001b[0m\u001b[0m\n\u001b[1;32m     18\u001b[0m     \u001b[0;31m#rename file and send to dropbox\u001b[0m\u001b[0;34m\u001b[0m\u001b[0;34m\u001b[0m\u001b[0;34m\u001b[0m\u001b[0m\n",
            "\u001b[0;31mKeyboardInterrupt\u001b[0m: "
          ]
        }
      ],
      "source": [
        "from time import sleep\n",
        "from random import randint\n",
        "from IPython.display import clear_output\n",
        "\n",
        "wd = webdriver.Chrome(options=options)\n",
        "loops,loopsDropbox = DynamicLoopsParseBioCSV(machine)\n",
        "ExecuteLoopsBio(loops)"
      ]
    }
  ],
  "metadata": {
    "colab": {
      "collapsed_sections": [],
      "name": "JobsBioParse_new.ipynb",
      "provenance": [],
      "include_colab_link": true
    },
    "kernelspec": {
      "display_name": "Python 3",
      "language": "python",
      "name": "python3"
    },
    "language_info": {
      "codemirror_mode": {
        "name": "ipython",
        "version": 3
      },
      "file_extension": ".py",
      "mimetype": "text/x-python",
      "name": "python",
      "nbconvert_exporter": "python",
      "pygments_lexer": "ipython3",
      "version": "3.8.5"
    }
  },
  "nbformat": 4,
  "nbformat_minor": 0
}